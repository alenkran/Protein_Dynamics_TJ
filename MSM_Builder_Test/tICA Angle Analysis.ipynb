{
 "cells": [
  {
   "cell_type": "code",
   "execution_count": 4,
   "metadata": {
    "collapsed": true
   },
   "outputs": [],
   "source": [
    "import numpy as np\n",
    "import os.path"
   ]
  },
  {
   "cell_type": "code",
   "execution_count": 2,
   "metadata": {
    "collapsed": false
   },
   "outputs": [
    {
     "name": "stdout",
     "output_type": "stream",
     "text": [
      "(97L, 21L)\n"
     ]
    }
   ],
   "source": [
    "i = 1000\n",
    "j = 10\n",
    "lv = np.load('.//Eigen_Data//lv_'+str(i)+'_'+str(j)+'.dat')\n",
    "print lv.shape"
   ]
  },
  {
   "cell_type": "code",
   "execution_count": 9,
   "metadata": {
    "collapsed": false
   },
   "outputs": [
    {
     "name": "stdout",
     "output_type": "stream",
     "text": [
      "0.100814890405 (1000, 10)\n",
      "0.100357309845 (1000, 100)\n",
      "0.977251426252 (1000, 1000)\n",
      "0.979770050831 (10000, 10)\n",
      "0.962423462651 (10000, 100)\n",
      "0.981187702554 (10000, 1000)\n",
      "0.98254974415 (28000, 10)\n",
      "0.969507081152 (28000, 100)\n",
      "0.955083854462 (28000, 1000)\n",
      "0.944392663163 (50000, 10)\n",
      "0.980082492656 (50000, 100)\n",
      "0.971531309544 (50000, 1000)\n"
     ]
    }
   ],
   "source": [
    "num_traj = np.array([1e3, 1e4, 2.8e4, 5e4]).astype(int)\n",
    "num_length = np.array([10, 1e2, 1e3]).astype(int)\n",
    "\n",
    "lv_orig = np.load('.//Eigen_Data//lv_fs_original_stride_10.dat')\n",
    "\n",
    "for i in num_traj:\n",
    "    for j in num_length:\n",
    "        filename = './/Eigen_Data//lv_'+str(i)+'_'+str(j)+'.dat'\n",
    "        if os.path.isfile(filename):\n",
    "            lv = np.load('.//Eigen_Data//lv_'+str(i)+'_'+str(j)+'.dat')\n",
    "            denom = np.linalg.norm(lv_orig[:,0])*np.linalg.norm(lv[:,0])\n",
    "            dot = np.dot(lv_orig[:,0],lv[:,0])/denom\n",
    "            print dot, (i, j)"
   ]
  },
  {
   "cell_type": "code",
   "execution_count": null,
   "metadata": {
    "collapsed": true
   },
   "outputs": [],
   "source": []
  }
 ],
 "metadata": {
  "anaconda-cloud": {},
  "kernelspec": {
   "display_name": "Python [conda root]",
   "language": "python",
   "name": "conda-root-py"
  },
  "language_info": {
   "codemirror_mode": {
    "name": "ipython",
    "version": 2
   },
   "file_extension": ".py",
   "mimetype": "text/x-python",
   "name": "python",
   "nbconvert_exporter": "python",
   "pygments_lexer": "ipython2",
   "version": "2.7.11"
  }
 },
 "nbformat": 4,
 "nbformat_minor": 2
}
