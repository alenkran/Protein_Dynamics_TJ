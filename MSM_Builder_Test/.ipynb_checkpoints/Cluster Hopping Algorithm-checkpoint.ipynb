{
 "cells": [
  {
   "cell_type": "code",
   "execution_count": 3,
   "metadata": {
    "collapsed": false
   },
   "outputs": [],
   "source": [
    "# Imports\n",
    "import numpy as np\n",
    "import mdtraj as md"
   ]
  },
  {
   "cell_type": "code",
   "execution_count": 6,
   "metadata": {
    "collapsed": true
   },
   "outputs": [],
   "source": [
    "# Load data\n",
    "iso_cluster_labels = np.load('C:\\Users\\minch_000\\Documents\\TJ_data\\isomap_out\\isomap_clustering_labels_35_40_97.dat')\n",
    "iso_centers_RD = np.load('C:\\Users\\minch_000\\Documents\\TJ_data\\isomap_out\\isomap_clusters_RD_35_40_97.dat')"
   ]
  },
  {
   "cell_type": "code",
   "execution_count": 60,
   "metadata": {
    "collapsed": true
   },
   "outputs": [],
   "source": [
    "# Build cluster distance matrix (rows are normalized to add to 1)\n",
    "n_clusters, n_components = iso_centers_RD.shape\n",
    "cluster_distances = np.zeros((n_clusters,n_clusters))\n",
    "for cluster1 in range(n_clusters):\n",
    "    for cluster2 in range(n_clusters):\n",
    "        cluster_distances[cluster1][cluster2] = np.linalg.norm(iso_centers_RD[cluster1,:] - iso_centers_RD[cluster2,:]) \n",
    "probabilities = cluster_distances;\n",
    "for row in range(n_clusters):\n",
    "    \n",
    "    # Method using population\n",
    "#     probabilities[row,:] = probabilities[row,:] / np.sum(probabilities[row,:]) * (1-pop_vec[row])\n",
    "#     probabilities[row,row] = pop_vec[row]\n",
    "    \n",
    "    # method using internal average"
   ]
  },
  {
   "cell_type": "code",
   "execution_count": 66,
   "metadata": {
    "collapsed": false
   },
   "outputs": [],
   "source": [
    "# compute population vector\n",
    "pop_vec = np.zeros( n_clusters)\n",
    "for idx in range(n_clusters):\n",
    "    pop_vec[idx] = np.where(iso_cluster_labels==idx)[0].shape[0]\n",
    "pop_vec = pop_vec/float(n_frames)\n",
    "cluster_list = [c for c in range(n_clusters)]"
   ]
  },
  {
   "cell_type": "code",
   "execution_count": 91,
   "metadata": {
    "collapsed": false
   },
   "outputs": [],
   "source": [
    "# Pick a random frame and generate a trajectory\n",
    "traj_length = 10000;\n",
    "n_frames = iso_cluster_labels.shape[0]\n",
    "start_frame = np.random.randint(0, n_frames-1,1)\n",
    "traj = np.zeros(traj_length)\n",
    "for traj_idx in range(traj_length):\n",
    "    if traj_idx == 0:\n",
    "        traj[traj_idx] = iso_cluster_labels[int(start_frame)]\n",
    "    else:\n",
    "        traj[traj_idx] = np.random.choice(cluster_list, 1, p=cluster_distances[int(traj[traj_idx-1]),:])\n"
   ]
  },
  {
   "cell_type": "code",
   "execution_count": 94,
   "metadata": {
    "collapsed": false
   },
   "outputs": [
    {
     "data": {
      "text/plain": [
       "1.0"
      ]
     },
     "execution_count": 94,
     "metadata": {},
     "output_type": "execute_result"
    }
   ],
   "source": []
  },
  {
   "cell_type": "code",
   "execution_count": 30,
   "metadata": {
    "collapsed": false
   },
   "outputs": [
    {
     "data": {
      "text/plain": [
       "[0, 1, 2, 3, 4]"
      ]
     },
     "execution_count": 30,
     "metadata": {},
     "output_type": "execute_result"
    }
   ],
   "source": [
    "a"
   ]
  }
 ],
 "metadata": {
  "kernelspec": {
   "display_name": "Python 2",
   "language": "python",
   "name": "python2"
  },
  "language_info": {
   "codemirror_mode": {
    "name": "ipython",
    "version": 2
   },
   "file_extension": ".py",
   "mimetype": "text/x-python",
   "name": "python",
   "nbconvert_exporter": "python",
   "pygments_lexer": "ipython2",
   "version": "2.7.12"
  }
 },
 "nbformat": 4,
 "nbformat_minor": 0
}
