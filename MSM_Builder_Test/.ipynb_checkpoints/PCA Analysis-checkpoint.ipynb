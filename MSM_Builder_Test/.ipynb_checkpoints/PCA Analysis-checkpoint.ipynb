{
 "cells": [
  {
   "cell_type": "code",
   "execution_count": 2,
   "metadata": {
    "collapsed": true
   },
   "outputs": [],
   "source": [
    "import tempfile\n",
    "import os\n",
    "import numpy as np\n",
    "from msmbuilder.example_datasets import FsPeptide\n",
    "from msmbuilder.dataset import dataset\n",
    "from msmbuilder.featurizer import DihedralFeaturizer\n",
    "from sklearn.decomposition import PCA\n",
    "import mdtraj as md"
   ]
  },
  {
   "cell_type": "markdown",
   "metadata": {},
   "source": [
    "## Original MSM, with time information"
   ]
  },
  {
   "cell_type": "code",
   "execution_count": 4,
   "metadata": {
    "collapsed": false
   },
   "outputs": [
    {
     "name": "stderr",
     "output_type": "stream",
     "text": [
      "C:\\Users\\minch_000\\Anaconda2\\lib\\site-packages\\mdtraj\\formats\\pdb\\pdbfile.py:196: UserWarning: Unlikely unit cell vectors detected in PDB file likely resulting from a dummy CRYST1 record. Discarding unit cell vectors.\n",
      "  warnings.warn('Unlikely unit cell vectors detected in PDB file likely '\n"
     ]
    },
    {
     "name": "stdout",
     "output_type": "stream",
     "text": [
      "28 trajectories\n",
      "with length set([500.0]) ns\n"
     ]
    }
   ],
   "source": [
    "# get data\n",
    "fs_peptide = FsPeptide()\n",
    "fs_peptide.cache()\n",
    "os.chdir(tempfile.mkdtemp())\n",
    "xyz = dataset(fs_peptide.data_dir + \"/*.xtc\",\n",
    "              topology=fs_peptide.data_dir + '/fs-peptide.pdb',\n",
    "              stride=10)\n",
    "print(\"{} trajectories\".format(len(xyz)))\n",
    "# msmbuilder does not keep track of units! You must keep track of your\n",
    "# data's timestep\n",
    "to_ns = 0.5\n",
    "print(\"with length {} ns\".format(set(len(x)*to_ns for x in xyz)))"
   ]
  },
  {
   "cell_type": "code",
   "execution_count": 3,
   "metadata": {
    "collapsed": false
   },
   "outputs": [
    {
     "name": "stdout",
     "output_type": "stream",
     "text": [
      "(1000L, 264L, 3L)\n",
      "(1000L, 84L)\n"
     ]
    }
   ],
   "source": [
    "#featurization\n",
    "\n",
    "featurizer = DihedralFeaturizer(types=['phi', 'psi'])\n",
    "diheds = xyz.fit_transform_with(featurizer, 'diheds/', fmt='dir-npy')\n",
    "\n",
    "print(xyz[0].xyz.shape)\n",
    "print(diheds[0].shape)\n",
    "\n",
    "#tICA\n",
    "from msmbuilder.decomposition import tICA\n",
    "tica_model = tICA(lag_time=2, n_components=2)\n",
    "# fit and transform can be done in seperate steps:\n",
    "tica_model = diheds.fit_with(tica_model)\n",
    "tica_trajs = diheds.transform_with(tica_model, 'ticas/', fmt='dir-npy')\n",
    "txx = np.concatenate(tica_trajs)"
   ]
  },
  {
   "cell_type": "markdown",
   "metadata": {
    "collapsed": false
   },
   "source": [
    "## PCA on Isomap Analysis"
   ]
  },
  {
   "cell_type": "code",
   "execution_count": 15,
   "metadata": {
    "collapsed": false
   },
   "outputs": [],
   "source": [
    "# Perform PCA in the Isomap dimension\n",
    "data_file = 'C:\\Users\\minch_000\\Documents\\TJ_data\\\\fspeptide\\\\X_isomap_40_10_1.0.dat'\n",
    "X_iso = np.load(data_file)\n",
    "idx = [i for i in range(X_iso.shape[0])]\n",
    "shuffle_idx = np.random.shuffle(idx)\n",
    "X_iso = X_iso[idx, :]\n",
    "pca = PCA(n_components=2)\n",
    "X_ip = pca.fit_transform(X_iso)"
   ]
  },
  {
   "cell_type": "code",
   "execution_count": 6,
   "metadata": {
    "collapsed": false
   },
   "outputs": [
    {
     "ename": "NameError",
     "evalue": "name 'idx' is not defined",
     "output_type": "error",
     "traceback": [
      "\u001b[1;31m---------------------------------------------------------------------------\u001b[0m",
      "\u001b[1;31mNameError\u001b[0m                                 Traceback (most recent call last)",
      "\u001b[1;32m<ipython-input-6-d6afcb45ac48>\u001b[0m in \u001b[0;36m<module>\u001b[1;34m()\u001b[0m\n\u001b[0;32m      1\u001b[0m \u001b[1;31m# Sample along the 1st principal components\u001b[0m\u001b[1;33m\u001b[0m\u001b[1;33m\u001b[0m\u001b[0m\n\u001b[0;32m      2\u001b[0m \u001b[0mX\u001b[0m \u001b[1;33m=\u001b[0m \u001b[0mnp\u001b[0m\u001b[1;33m.\u001b[0m\u001b[0mload\u001b[0m\u001b[1;33m(\u001b[0m\u001b[1;34m'C:\\Users\\minch_000\\Documents\\TJ_data\\\\fspeptide\\\\raw_XYZ_250_.dat'\u001b[0m\u001b[1;33m)\u001b[0m\u001b[1;33m\u001b[0m\u001b[0m\n\u001b[1;32m----> 3\u001b[1;33m \u001b[0mX\u001b[0m \u001b[1;33m=\u001b[0m \u001b[0mX\u001b[0m\u001b[1;33m[\u001b[0m\u001b[0midx\u001b[0m\u001b[1;33m,\u001b[0m\u001b[1;33m:\u001b[0m\u001b[1;33m]\u001b[0m\u001b[1;33m\u001b[0m\u001b[0m\n\u001b[0m\u001b[0;32m      4\u001b[0m \u001b[0mfirst_PCA\u001b[0m \u001b[1;33m=\u001b[0m \u001b[0mX_ip\u001b[0m\u001b[1;33m[\u001b[0m\u001b[1;33m:\u001b[0m\u001b[1;33m,\u001b[0m \u001b[1;36m0\u001b[0m\u001b[1;33m]\u001b[0m\u001b[1;33m\u001b[0m\u001b[0m\n\u001b[0;32m      5\u001b[0m \u001b[0midx_sort\u001b[0m \u001b[1;33m=\u001b[0m \u001b[0mfirst_PCA\u001b[0m\u001b[1;33m.\u001b[0m\u001b[0margsort\u001b[0m\u001b[1;33m(\u001b[0m\u001b[1;33m)\u001b[0m\u001b[1;33m[\u001b[0m\u001b[1;33m-\u001b[0m\u001b[0mlen\u001b[0m\u001b[1;33m(\u001b[0m\u001b[0mfirst_PCA\u001b[0m\u001b[1;33m)\u001b[0m\u001b[1;33m:\u001b[0m\u001b[1;33m]\u001b[0m\u001b[1;33m[\u001b[0m\u001b[1;33m:\u001b[0m\u001b[1;33m:\u001b[0m\u001b[1;33m-\u001b[0m\u001b[1;36m1\u001b[0m\u001b[1;33m]\u001b[0m\u001b[1;33m\u001b[0m\u001b[0m\n",
      "\u001b[1;31mNameError\u001b[0m: name 'idx' is not defined"
     ]
    }
   ],
   "source": [
    "# Sample along the 1st principal components\n",
    "X = np.load('C:\\Users\\minch_000\\Documents\\TJ_data\\\\fspeptide\\\\raw_XYZ_250_.dat')\n",
    "X_ip = np.load('C:\\Users\\minch_000\\Documents\\TJ_data\\\\fspeptide\\\\X_pc_isomap_40_10_250_4.dat')\n",
    "first_PCA = X_ip[:, 0]\n",
    "idx_sort = first_PCA.argsort()[-len(first_PCA):][::-1]\n",
    "# sample_rate = int(X_ip.shape[0]/3000) # sample only 3000 frames equally spaced apart\n",
    "# traj = idx_sort[::sample_rate]\n",
    "PCA_traj = np.reshape(X[traj,:], (len(traj), X.shape[1]/3, 3))\n",
    "md_traj = md.Trajectory(PCA_traj, md.load('C:\\Users\\minch_000\\Documents\\TJ_data\\\\fspeptide\\\\1cfd.pdb').topology)\n",
    "md_traj.save_xtc('C:\\Users\\minch_000\\Documents\\GitHub\\Protein_Dynamics_TJ\\MSM_Builder_Test\\PCA_traj.xtc')"
   ]
  },
  {
   "cell_type": "code",
   "execution_count": 5,
   "metadata": {
    "collapsed": false
   },
   "outputs": [
    {
     "data": {
      "text/plain": [
       "'C:\\\\Users\\\\minch_000\\\\msmbuilder_data\\\\fs_peptide'"
      ]
     },
     "execution_count": 5,
     "metadata": {},
     "output_type": "execute_result"
    }
   ],
   "source": [
    "fs_peptide.data_dir"
   ]
  }
 ],
 "metadata": {
  "anaconda-cloud": {},
  "kernelspec": {
   "display_name": "Python 2",
   "language": "python",
   "name": "python2"
  },
  "language_info": {
   "codemirror_mode": {
    "name": "ipython",
    "version": 2
   },
   "file_extension": ".py",
   "mimetype": "text/x-python",
   "name": "python",
   "nbconvert_exporter": "python",
   "pygments_lexer": "ipython2",
   "version": "2.7.12"
  }
 },
 "nbformat": 4,
 "nbformat_minor": 2
}
