{
 "cells": [
  {
   "cell_type": "code",
   "execution_count": 1,
   "metadata": {
    "collapsed": true
   },
   "outputs": [],
   "source": [
    "import tempfile\n",
    "import os\n",
    "import numpy as np\n",
    "from msmbuilder.example_datasets import FsPeptide\n",
    "from msmbuilder.dataset import dataset\n",
    "from msmbuilder.featurizer import DihedralFeaturizer\n",
    "from sklearn.decomposition import PCA\n",
    "import mdtraj as md"
   ]
  },
  {
   "cell_type": "markdown",
   "metadata": {},
   "source": [
    "## Original MSM, with time information"
   ]
  },
  {
   "cell_type": "code",
   "execution_count": 2,
   "metadata": {
    "collapsed": false
   },
   "outputs": [
    {
     "name": "stderr",
     "output_type": "stream",
     "text": [
      "C:\\Users\\minch_000\\Anaconda2\\lib\\site-packages\\mdtraj\\formats\\pdb\\pdbfile.py:196: UserWarning: Unlikely unit cell vectors detected in PDB file likely resulting from a dummy CRYST1 record. Discarding unit cell vectors.\n",
      "  warnings.warn('Unlikely unit cell vectors detected in PDB file likely '\n"
     ]
    },
    {
     "name": "stdout",
     "output_type": "stream",
     "text": [
      "28 trajectories\n",
      "with length set([500.0]) ns\n"
     ]
    }
   ],
   "source": [
    "# get data\n",
    "fs_peptide = FsPeptide()\n",
    "fs_peptide.cache()\n",
    "os.chdir(tempfile.mkdtemp())\n",
    "xyz = dataset(fs_peptide.data_dir + \"/*.xtc\",\n",
    "              topology=fs_peptide.data_dir + '/fs-peptide.pdb',\n",
    "              stride=10)\n",
    "print(\"{} trajectories\".format(len(xyz)))\n",
    "# msmbuilder does not keep track of units! You must keep track of your\n",
    "# data's timestep\n",
    "to_ns = 0.5\n",
    "print(\"with length {} ns\".format(set(len(x)*to_ns for x in xyz)))"
   ]
  },
  {
   "cell_type": "code",
   "execution_count": 3,
   "metadata": {
    "collapsed": false
   },
   "outputs": [
    {
     "name": "stdout",
     "output_type": "stream",
     "text": [
      "(1000L, 264L, 3L)\n",
      "(1000L, 84L)\n"
     ]
    }
   ],
   "source": [
    "#featurization\n",
    "\n",
    "featurizer = DihedralFeaturizer(types=['phi', 'psi'])\n",
    "diheds = xyz.fit_transform_with(featurizer, 'diheds/', fmt='dir-npy')\n",
    "\n",
    "print(xyz[0].xyz.shape)\n",
    "print(diheds[0].shape)\n",
    "\n",
    "#tICA\n",
    "from msmbuilder.decomposition import tICA\n",
    "tica_model = tICA(lag_time=2, n_components=2)\n",
    "# fit and transform can be done in seperate steps:\n",
    "tica_model = diheds.fit_with(tica_model)\n",
    "tica_trajs = diheds.transform_with(tica_model, 'ticas/', fmt='dir-npy')\n",
    "txx = np.concatenate(tica_trajs)"
   ]
  },
  {
   "cell_type": "markdown",
   "metadata": {
    "collapsed": false
   },
   "source": [
    "## PCA on Isomap Analysis"
   ]
  },
  {
   "cell_type": "code",
   "execution_count": 4,
   "metadata": {
    "collapsed": false
   },
   "outputs": [],
   "source": [
    "# Perform PCA in the Isomap dimension\n",
    "data_file = 'C:\\Users\\minch_000\\Documents\\TJ_data\\\\fspeptide\\\\X_isomap_40_10_1.0.dat'\n",
    "X_iso = np.load(data_file)\n",
    "X_iso.shape\n",
    "pca = PCA(n_components=2)\n",
    "X_ip = pca.fit_transform(X_iso)"
   ]
  },
  {
   "cell_type": "code",
   "execution_count": 40,
   "metadata": {
    "collapsed": false
   },
   "outputs": [
    {
     "data": {
      "text/plain": [
       "nan"
      ]
     },
     "execution_count": 40,
     "metadata": {},
     "output_type": "execute_result"
    }
   ],
   "source": [
    "np.mean(txx[:5,0])"
   ]
  },
  {
   "cell_type": "code",
   "execution_count": 11,
   "metadata": {
    "collapsed": false
   },
   "outputs": [
    {
     "name": "stdout",
     "output_type": "stream",
     "text": [
      "[[ 0.07459091 -1.65515424]\n",
      " [ 0.00373348 -1.6631856 ]\n",
      " [ 0.32789583 -1.81602751]\n",
      " [ 0.2513188  -1.98333503]\n",
      " [ 0.1322262  -1.60597778]]\n",
      "[[ 0.00661882 -0.18180382]\n",
      " [ 0.00033129 -0.18268599]\n",
      " [ 0.02909579 -0.1994743 ]\n",
      " [ 0.02230074 -0.21785153]\n",
      " [ 0.01173307 -0.17640222]]\n"
     ]
    }
   ],
   "source": [
    "# # Center and standarize each column\n",
    "# txx[:, 0] = txx[:,0]/np.std(txx[:,0])\n",
    "# txx[:, 1] = txx[:,1]/np.std(txx[:,1])\n",
    "# X_ip[:, 0] = txx[:,0]/np.std(X_ip[:,0])\n",
    "# X_ip[:, 1] = txx[:,1]/np.std(X_ip[:,1])\n",
    "# print(txx[:5,:])\n",
    "# print(X_ip[:5,:])"
   ]
  },
  {
   "cell_type": "code",
   "execution_count": 7,
   "metadata": {
    "collapsed": false
   },
   "outputs": [
    {
     "name": "stderr",
     "output_type": "stream",
     "text": [
      "C:\\Users\\minch_000\\Anaconda2\\lib\\site-packages\\mdtraj\\formats\\pdb\\pdbfile.py:196: UserWarning: Unlikely unit cell vectors detected in PDB file likely resulting from a dummy CRYST1 record. Discarding unit cell vectors.\n",
      "  warnings.warn('Unlikely unit cell vectors detected in PDB file likely '\n"
     ]
    }
   ],
   "source": [
    "# Sample along the 1st tICA coordinate\n",
    "X = np.load('C:\\Users\\minch_000\\Documents\\TJ_data\\\\fspeptide\\\\raw_XYZ.dat')\n",
    "first_PCA = X_ip[:, 0]\n",
    "idx_sort = first_PCA.argsort()[-len(first_PCA):][::-1]\n",
    "sample_rate = int(X_ip.shape[0]/3000) # sample only 3000 frames equally spaced apart\n",
    "traj = idx_sort[::sample_rate]\n",
    "PCA_traj = np.reshape(X[traj,:], (len(traj), X.shape[1]/3, 3))\n",
    "md_traj = md.Trajectory(PCA_traj, md.load(fs_peptide.data_dir + '/fs-peptide.pdb').topology)\n",
    "md_traj.save_xtc('PCA_traj.xtc')"
   ]
  }
 ],
 "metadata": {
  "anaconda-cloud": {},
  "kernelspec": {
   "display_name": "Python 2",
   "language": "python",
   "name": "python2"
  },
  "language_info": {
   "codemirror_mode": {
    "name": "ipython",
    "version": 2
   },
   "file_extension": ".py",
   "mimetype": "text/x-python",
   "name": "python",
   "nbconvert_exporter": "python",
   "pygments_lexer": "ipython2",
   "version": "2.7.12"
  }
 },
 "nbformat": 4,
 "nbformat_minor": 2
}
