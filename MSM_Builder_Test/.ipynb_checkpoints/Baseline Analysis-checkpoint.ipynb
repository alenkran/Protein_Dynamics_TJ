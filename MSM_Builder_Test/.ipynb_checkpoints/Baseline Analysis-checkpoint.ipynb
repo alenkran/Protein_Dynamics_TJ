{
 "cells": [
  {
   "cell_type": "markdown",
   "metadata": {},
   "source": [
    "# Baseline Analysis"
   ]
  },
  {
   "cell_type": "raw",
   "metadata": {},
   "source": [
    "This notebook contains code for performing some of the baseline analysis. The baseline analysis uses RMSD as the distance metric (not in any reduced dimensinon) and performs PCA directly. \n",
    "\n",
    "*** Enter the appropriate base path for files in the cell below."
   ]
  },
  {
   "cell_type": "code",
   "execution_count": 1,
   "metadata": {
    "collapsed": false
   },
   "outputs": [
    {
     "name": "stderr",
     "output_type": "stream",
     "text": [
      "C:\\Users\\minch_000\\Anaconda3\\lib\\site-packages\\sklearn\\cross_validation.py:44: DeprecationWarning: This module was deprecated in version 0.18 in favor of the model_selection module into which all the refactored classes and functions are moved. Also note that the interface of the new CV iterators are different from that of this module. This module will be removed in 0.20.\n",
      "  \"This module will be removed in 0.20.\", DeprecationWarning)\n",
      "C:\\Users\\minch_000\\Anaconda3\\lib\\site-packages\\sklearn\\grid_search.py:43: DeprecationWarning: This module was deprecated in version 0.18 in favor of the model_selection module into which all the refactored classes and functions are moved. This module will be removed in 0.20.\n",
      "  DeprecationWarning)\n",
      "C:\\Users\\minch_000\\Anaconda3\\lib\\site-packages\\statsmodels\\compat\\pandas.py:56: FutureWarning: The pandas.core.datetools module is deprecated and will be removed in a future version. Please use the pandas.tseries module instead.\n",
      "  from pandas.core import datetools\n"
     ]
    }
   ],
   "source": [
    "import tempfile\n",
    "import os\n",
    "import numpy as np\n",
    "from msmbuilder.example_datasets import FsPeptide\n",
    "from msmbuilder.dataset import dataset\n",
    "from msmbuilder.featurizer import DihedralFeaturizer\n",
    "from sklearn.decomposition import PCA\n",
    "import mdtraj as md\n",
    "import msmbuilder.utils as msmUtils\n",
    "from msmbuilder.tpt import mfpts\n",
    "import matplotlib.pyplot as plt"
   ]
  },
  {
   "cell_type": "code",
   "execution_count": 2,
   "metadata": {
    "collapsed": true
   },
   "outputs": [],
   "source": [
    "%matplotlib inline"
   ]
  },
  {
   "cell_type": "code",
   "execution_count": 6,
   "metadata": {
    "collapsed": false
   },
   "outputs": [],
   "source": [
    "# Base path for all files\n",
    "#base = 'C:\\Users\\MinCheol\\Documents\\TJ_data'\n",
    "base = 'C:\\\\Users\\\\minch_000\\\\Documents\\\\TJ_data'"
   ]
  },
  {
   "cell_type": "markdown",
   "metadata": {},
   "source": [
    "## FsPeptide Baseline MFPT"
   ]
  },
  {
   "cell_type": "markdown",
   "metadata": {},
   "source": [
    "#### MFPT vs RMSD Plots"
   ]
  },
  {
   "cell_type": "code",
   "execution_count": 9,
   "metadata": {
    "collapsed": false
   },
   "outputs": [],
   "source": [
    "# import the msm, raw XYZ coordinates, and the cluster assignments\n",
    "fs_msm = msmUtils.load(base + '\\\\fspeptide\\msm\\msm.pkl')\n",
    "X = np.loadtxt(base + '\\\\fspeptide\\sim_datasets\\\\raw_XYZ_10000.csv', delimiter=',')\n",
    "cluster_assignments = np.loadtxt(base + '\\\\fspeptide\\msm\\msm_clustering_labels.csv', delimiter=',')\n",
    "chosen_indices = np.loadtxt(base + '\\\\fspeptide\\msm\\indices_10000.csv', delimiter=',')"
   ]
  },
  {
   "cell_type": "code",
   "execution_count": 11,
   "metadata": {
    "collapsed": false
   },
   "outputs": [],
   "source": [
    "# Collect MFPT\n",
    "fs_mfpt_matrix = (mfpts(fs_msm) + mfpts(fs_msm).T)/2"
   ]
  },
  {
   "cell_type": "code",
   "execution_count": 31,
   "metadata": {
    "collapsed": true
   },
   "outputs": [],
   "source": [
    "# Parameters for MFPT plots\n",
    "num_frames = X.shape[0]\n",
    "num_points = 5000"
   ]
  },
  {
   "cell_type": "code",
   "execution_count": 32,
   "metadata": {
    "collapsed": false
   },
   "outputs": [],
   "source": [
    "distances = []\n",
    "mfpt_times = []\n",
    "for p in range(num_points):\n",
    "    frame_pair = np.random.randint(low=0, high=num_frames-1, size=2) # frame number in sim_data\n",
    "    true_frame_pair = (int(chosen_indices[frame_pair[0]]), int(chosen_indices[frame_pair[1]])) # corresponding original frame numbers\n",
    "    msm_frame_pair = (fs_msm.mapping_[cluster_assignments[true_frame_pair[0]]], fs_msm.mapping_[cluster_assignments[true_frame_pair[1]]])\n",
    "    if msm_frame_pair[0] != msm_frame_pair[1] and fs_mfpt_matrix[msm_frame_pair[0]][msm_frame_pair[1]] > 0:\n",
    "        distances.append(np.linalg.norm(X[frame_pair[0],:] - X[frame_pair[1], :]))\n",
    "        mfpt_times.append(fs_mfpt_matrix[msm_frame_pair[0]][msm_frame_pair[1]])"
   ]
  },
  {
   "cell_type": "code",
   "execution_count": 33,
   "metadata": {
    "collapsed": false
   },
   "outputs": [
    {
     "data": {
      "text/plain": [
       "<matplotlib.collections.PathCollection at 0x19c33ed1358>"
      ]
     },
     "execution_count": 33,
     "metadata": {},
     "output_type": "execute_result"
    },
    {
     "data": {
      "image/png": "[encoded data removed]",
      "text/plain": [
       "<matplotlib.figure.Figure at 0x19c339922e8>"
      ]
     },
     "metadata": {},
     "output_type": "display_data"
    }
   ],
   "source": [
    "plt.scatter(np.array(distances), np.log(np.array(mfpt_times)))"
   ]
  },
  {
   "cell_type": "markdown",
   "metadata": {},
   "source": [
    "## Calmodulin Baseline"
   ]
  },
  {
   "cell_type": "code",
   "execution_count": 9,
   "metadata": {
    "collapsed": false
   },
   "outputs": [],
   "source": [
    "# import the msm, raw XYZ coordinates, and the cluster assignments\n",
    "cal_msm = msmUtils.load(base + '\\\\apo_calmodulin\\msm\\msm.pkl')\n",
    "X = np.loadtxt(base + '\\\\fspeptide\\sim_datasets\\\\raw_XYZ_10000.csv', delimiter=',')\n",
    "cluster_assignments = np.loadtxt(base + '\\\\fspeptide\\msm\\msm_clustering_labels.csv', delimiter=',')\n",
    "chosen_indices = np.loadtxt(base + '\\\\fspeptide\\msm\\indices_10000.csv', delimiter=',')"
   ]
  },
  {
   "cell_type": "code",
   "execution_count": 11,
   "metadata": {
    "collapsed": false
   },
   "outputs": [],
   "source": [
    "# Collect MFPT\n",
    "fs_mfpt_matrix = (mfpts(fs_msm) + mfpts(fs_msm).T)/2"
   ]
  },
  {
   "cell_type": "code",
   "execution_count": 31,
   "metadata": {
    "collapsed": true
   },
   "outputs": [],
   "source": [
    "# Parameters for MFPT plots\n",
    "num_frames = X.shape[0]\n",
    "num_points = 5000"
   ]
  },
  {
   "cell_type": "code",
   "execution_count": 32,
   "metadata": {
    "collapsed": false
   },
   "outputs": [],
   "source": [
    "distances = []\n",
    "mfpt_times = []\n",
    "for p in range(num_points):\n",
    "    frame_pair = np.random.randint(low=0, high=num_frames-1, size=2) # frame number in sim_data\n",
    "    true_frame_pair = (int(chosen_indices[frame_pair[0]]), int(chosen_indices[frame_pair[1]])) # corresponding original frame numbers\n",
    "    msm_frame_pair = (fs_msm.mapping_[cluster_assignments[true_frame_pair[0]]], fs_msm.mapping_[cluster_assignments[true_frame_pair[1]]])\n",
    "    if msm_frame_pair[0] != msm_frame_pair[1] and fs_mfpt_matrix[msm_frame_pair[0]][msm_frame_pair[1]] > 0:\n",
    "        distances.append(np.linalg.norm(X[frame_pair[0],:] - X[frame_pair[1], :]))\n",
    "        mfpt_times.append(fs_mfpt_matrix[msm_frame_pair[0]][msm_frame_pair[1]])"
   ]
  },
  {
   "cell_type": "code",
   "execution_count": 33,
   "metadata": {
    "collapsed": false
   },
   "outputs": [
    {
     "data": {
      "text/plain": [
       "<matplotlib.collections.PathCollection at 0x19c33ed1358>"
      ]
     },
     "execution_count": 33,
     "metadata": {},
     "output_type": "execute_result"
    },
    {
     "data": {
      "image/png": "[encoded data removed]",
      "text/plain": [
       "<matplotlib.figure.Figure at 0x19c339922e8>"
      ]
     },
     "metadata": {},
     "output_type": "display_data"
    }
   ],
   "source": [
    "plt.scatter(np.array(distances), np.log(np.array(mfpt_times)))"
   ]
  }
 ],
 "metadata": {
  "kernelspec": {
   "display_name": "Python 3",
   "language": "python",
   "name": "python3"
  },
  "language_info": {
   "codemirror_mode": {
    "name": "ipython",
    "version": 3
   },
   "file_extension": ".py",
   "mimetype": "text/x-python",
   "name": "python",
   "nbconvert_exporter": "python",
   "pygments_lexer": "ipython3",
   "version": "3.6.0"
  }
 },
 "nbformat": 4,
 "nbformat_minor": 0
}
