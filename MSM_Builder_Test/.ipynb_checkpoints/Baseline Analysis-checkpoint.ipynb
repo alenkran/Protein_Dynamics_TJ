{
 "cells": [
  {
   "cell_type": "markdown",
   "metadata": {},
   "source": [
    "# Baseline Analysis"
   ]
  },
  {
   "cell_type": "raw",
   "metadata": {},
   "source": [
    "This notebook contains code for performing some of the baseline analysis. The baseline analysis uses RMSD as the distance metric (not in any reduced dimensinon) and performs PCA directly. \n",
    "\n",
    "*** Enter the appropriate base path for files in the cell below."
   ]
  },
  {
   "cell_type": "code",
   "execution_count": 80,
   "metadata": {
    "collapsed": false
   },
   "outputs": [],
   "source": [
    "import tempfile\n",
    "import os\n",
    "import numpy as np\n",
    "from msmbuilder.example_datasets import FsPeptide\n",
    "from msmbuilder.dataset import dataset\n",
    "from msmbuilder.featurizer import DihedralFeaturizer\n",
    "from sklearn.decomposition import PCA\n",
    "import mdtraj as md\n",
    "import msmbuilder.utils as msmUtils\n",
    "from msmbuilder.tpt import mfpts\n",
    "import matplotlib.pyplot as plt\n",
    "from scipy import stats"
   ]
  },
  {
   "cell_type": "code",
   "execution_count": 2,
   "metadata": {
    "collapsed": true
   },
   "outputs": [],
   "source": [
    "%matplotlib inline"
   ]
  },
  {
   "cell_type": "code",
   "execution_count": 6,
   "metadata": {
    "collapsed": false
   },
   "outputs": [],
   "source": [
    "# Base path for all files\n",
    "#base = 'C:\\Users\\MinCheol\\Documents\\TJ_data'\n",
    "#base = 'C:\\\\Users\\\\minch_000\\\\Documents\\\\TJ_data'\n",
    "base = 'C:\\Users\\Christian\\Documents\\GitHub\\Protein_Dynamics_TJ\\MSM_Builder_Test\\Sherlock_Data'"
   ]
  },
  {
   "cell_type": "markdown",
   "metadata": {},
   "source": [
    "## FsPeptide Baseline MFPT"
   ]
  },
  {
   "cell_type": "markdown",
   "metadata": {},
   "source": [
    "#### MFPT vs RMSD Plots"
   ]
  },
  {
   "cell_type": "raw",
   "metadata": {},
   "source": [
    "There is no real clear connection between RMSD and MFPT, as expected."
   ]
  },
  {
   "cell_type": "code",
   "execution_count": 87,
   "metadata": {
    "collapsed": false
   },
   "outputs": [],
   "source": [
    "# import the msm, raw XYZ coordinates, and the cluster assignments\n",
    "fs_msm = msmUtils.load(base + '\\\\fspeptide\\msm\\msm.pkl')\n",
    "X = np.loadtxt(base + '\\\\fspeptide\\sim_datasets\\\\raw_XYZ_12000.csv', delimiter=',')\n",
    "cluster_assignments = np.loadtxt(base + '\\\\fspeptide\\msm\\msm_clustering_labels.csv', delimiter=',')\n",
    "chosen_indices = np.loadtxt(base + '\\\\fspeptide\\msm\\indices_12000.csv', delimiter=',')"
   ]
  },
  {
   "cell_type": "code",
   "execution_count": 88,
   "metadata": {
    "collapsed": false
   },
   "outputs": [],
   "source": [
    "# Collect MFPT\n",
    "fs_mfpt_matrix = (mfpts(fs_msm) + mfpts(fs_msm).T)/2"
   ]
  },
  {
   "cell_type": "code",
   "execution_count": 89,
   "metadata": {
    "collapsed": true
   },
   "outputs": [],
   "source": [
    "# Parameters for MFPT plots\n",
    "num_frames = X.shape[0]\n",
    "num_points = 500"
   ]
  },
  {
   "cell_type": "code",
   "execution_count": 90,
   "metadata": {
    "collapsed": false
   },
   "outputs": [],
   "source": [
    "distances = []\n",
    "mfpt_times = []\n",
    "for p in range(num_points):\n",
    "    frame_pair = np.random.randint(low=0, high=num_frames-1, size=2) # frame number in sim_data\n",
    "    true_frame_pair = (int(chosen_indices[frame_pair[0]]), int(chosen_indices[frame_pair[1]])) # corresponding original frame numbers\n",
    "    msm_frame_pair = (fs_msm.mapping_[cluster_assignments[true_frame_pair[0]]], fs_msm.mapping_[cluster_assignments[true_frame_pair[1]]])\n",
    "    if msm_frame_pair[0] != msm_frame_pair[1] and fs_mfpt_matrix[msm_frame_pair[0]][msm_frame_pair[1]] > 0:\n",
    "        distances.append(np.linalg.norm(X[frame_pair[0],:] - X[frame_pair[1], :]))\n",
    "        mfpt_times.append(fs_mfpt_matrix[msm_frame_pair[0]][msm_frame_pair[1]])"
   ]
  },
  {
   "cell_type": "code",
   "execution_count": 98,
   "metadata": {
    "collapsed": false
   },
   "outputs": [
    {
     "data": {
      "text/plain": [
       "<matplotlib.text.Text at 0x19c5e525668>"
      ]
     },
     "execution_count": 98,
     "metadata": {},
     "output_type": "execute_result"
    },
    {
     "data": {
      "image/png": "[encoded data removed]",
      "text/plain": [
       "<matplotlib.figure.Figure at 0x19c5fb25ba8>"
      ]
     },
     "metadata": {},
     "output_type": "display_data"
    }
   ],
   "source": [
    "plt.scatter(np.array(distances), np.array(mfpt_times))\n",
    "plt.xlabel('Distance in XYZ space')\n",
    "plt.ylabel('MFPT')"
   ]
  },
  {
   "cell_type": "code",
   "execution_count": 95,
   "metadata": {
    "collapsed": false
   },
   "outputs": [
    {
     "name": "stdout",
     "output_type": "stream",
     "text": [
      "-0.234412449396\n"
     ]
    }
   ],
   "source": [
    "slope, intercept, r_value, p_value, std_err = stats.linregress(np.array(distances),np.log(np.log(np.array(mfpt_times))))\n",
    "print(r_value)"
   ]
  },
  {
   "cell_type": "markdown",
   "metadata": {},
   "source": [
    "## Calmodulin Baseline MFPT"
   ]
  },
  {
   "cell_type": "markdown",
   "metadata": {},
   "source": [
    "#### MFPT vs RMSD Plots"
   ]
  },
  {
   "cell_type": "raw",
   "metadata": {},
   "source": [
    "Once again, there is no very clear connection, but the blank space in the middle is fascinating."
   ]
  },
  {
   "cell_type": "code",
   "execution_count": 53,
   "metadata": {
    "collapsed": false
   },
   "outputs": [],
   "source": [
    "# import the msm, raw XYZ coordinates, and the cluster assignments\n",
    "cal_msm = msmUtils.load(base + '\\\\apo_calmodulin\\msm\\msm.pkl')\n",
    "X = np.loadtxt(base + '\\\\apo_calmodulin\\sim_datasets\\\\raw_XYZ_10000.csv', delimiter=',')\n",
    "cluster_assignments = np.loadtxt(base + '\\\\apo_calmodulin\\msm\\msm_clustering_labels.csv', delimiter=',')\n",
    "chosen_indices = np.loadtxt(base + '\\\\apo_calmodulin\\msm\\indices_10000.csv', delimiter=',')"
   ]
  },
  {
   "cell_type": "code",
   "execution_count": 54,
   "metadata": {
    "collapsed": false
   },
   "outputs": [],
   "source": [
    "# Collect MFPT\n",
    "cal_mfpt_matrix = (mfpts(cal_msm) + mfpts(cal_msm).T)/2"
   ]
  },
  {
   "cell_type": "code",
   "execution_count": 55,
   "metadata": {
    "collapsed": true
   },
   "outputs": [],
   "source": [
    "# Parameters for MFPT plots\n",
    "num_frames = X.shape[0]\n",
    "num_points = 5000"
   ]
  },
  {
   "cell_type": "code",
   "execution_count": 58,
   "metadata": {
    "collapsed": false
   },
   "outputs": [],
   "source": [
    "distances = []\n",
    "mfpt_times = []\n",
    "for p in range(num_points):\n",
    "    frame_pair = np.random.randint(low=0, high=num_frames-1, size=2) # frame number in sim_data\n",
    "    true_frame_pair = (int(chosen_indices[frame_pair[0]]), int(chosen_indices[frame_pair[1]])) # corresponding original frame numbers\n",
    "    msm_frame_pair = (cal_msm.mapping_[cluster_assignments[true_frame_pair[0]]], cal_msm.mapping_[cluster_assignments[true_frame_pair[1]]])\n",
    "    if msm_frame_pair[0] != msm_frame_pair[1] and cal_mfpt_matrix[msm_frame_pair[0]][msm_frame_pair[1]] > 0:\n",
    "        distances.append(np.linalg.norm(X[frame_pair[0],:] - X[frame_pair[1], :]))\n",
    "        mfpt_times.append(cal_mfpt_matrix[msm_frame_pair[0]][msm_frame_pair[1]])"
   ]
  },
  {
   "cell_type": "code",
   "execution_count": 59,
   "metadata": {
    "collapsed": false
   },
   "outputs": [
    {
     "data": {
      "text/plain": [
       "<matplotlib.collections.PathCollection at 0x19c367e5128>"
      ]
     },
     "execution_count": 59,
     "metadata": {},
     "output_type": "execute_result"
    },
    {
     "data": {
      "image/png": "[encoded data removed]",
      "text/plain": [
       "<matplotlib.figure.Figure at 0x19c35959fd0>"
      ]
     },
     "metadata": {},
     "output_type": "display_data"
    }
   ],
   "source": [
    "plt.scatter(np.array(distances), np.log(np.array(mfpt_times)))"
   ]
  }
 ],
 "metadata": {
  "kernelspec": {
   "display_name": "Python 2",
   "language": "python",
   "name": "python2"
  },
  "language_info": {
   "codemirror_mode": {
    "name": "ipython",
    "version": 2
   },
   "file_extension": ".py",
   "mimetype": "text/x-python",
   "name": "python",
   "nbconvert_exporter": "python",
   "pygments_lexer": "ipython2",
   "version": "2.7.13"
  }
 },
 "nbformat": 4,
 "nbformat_minor": 0
}
