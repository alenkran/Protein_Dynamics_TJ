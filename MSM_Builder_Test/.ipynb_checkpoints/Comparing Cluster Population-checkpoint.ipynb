{
 "cells": [
  {
   "cell_type": "code",
   "execution_count": 1,
   "metadata": {
    "collapsed": false
   },
   "outputs": [],
   "source": [
    "# Load cluster labels\n",
    "import numpy as np\n",
    "\n",
    "# Load isomap cluster labels\n",
    "iso_cluster_30_40_97 = np.load('.//Sherlock_data//isomap_clustering_labels_30_40_97.dat')\n",
    "iso_cluster_30_45_97 = np.load('.//Sherlock_data//isomap_clustering_labels_30_45_97.dat')\n",
    "iso_cluster_35_40_97 = np.load('.//Sherlock_data//isomap_clustering_labels_35_40_97.dat')\n",
    "iso_cluster_40_30_97 = np.load('.//Sherlock_data//isomap_clustering_labels_40_30_97.dat')\n",
    "iso_cluster_list = [iso_cluster_30_40_97, iso_cluster_30_45_97, iso_cluster_35_40_97, iso_cluster_40_30_97]\n",
    "\n",
    "# Load msm cluster labels\n",
    "# Note: we turned off the ergodic cut off so there are 100 clusters\n",
    "msm_cluster = np.load('.//Sherlock_data//msm_clustering_labels.dat')\n",
    "msm_pop = np.load('.//Sherlock_data//msm_pop_vec.dat')"
   ]
  },
  {
   "cell_type": "code",
   "execution_count": null,
   "metadata": {
    "collapsed": false
   },
   "outputs": [],
   "source": []
  },
  {
   "cell_type": "code",
   "execution_count": 2,
   "metadata": {
    "collapsed": false
   },
   "outputs": [
    {
     "name": "stdout",
     "output_type": "stream",
     "text": [
      "[ 0.03346429  0.00139286  0.00578571  0.01535714  0.00964286  0.01189286\n",
      "  0.00489286  0.01789286  0.00253571  0.01289286  0.01053571  0.00503571\n",
      "  0.01028571  0.01760714  0.01        0.00282143  0.01635714  0.06203571\n",
      "  0.013       0.00753571  0.01028571  0.01325     0.00514286  0.00414286\n",
      "  0.01160714  0.00364286  0.00282143  0.00457143  0.02489286  0.00307143\n",
      "  0.02210714  0.00635714  0.00603571  0.00617857  0.00853571  0.00253571\n",
      "  0.00982143  0.00514286  0.00210714  0.00375     0.0045      0.01332143\n",
      "  0.00825     0.01146429  0.00278571  0.00714286  0.00639286  0.00389286\n",
      "  0.00271429  0.00403571  0.00903571  0.00625     0.01053571  0.00175\n",
      "  0.03228571  0.00164286  0.07689286  0.00332143  0.01696429  0.00492857\n",
      "  0.00542857  0.01057143  0.00096429  0.00696429  0.01828571  0.01275\n",
      "  0.01442857  0.00567857  0.00682143  0.00153571  0.00328571  0.00314286\n",
      "  0.01639286  0.00325     0.00092857  0.00217857  0.00203571  0.00457143\n",
      "  0.008       0.01296429  0.01007143  0.00389286  0.00546429  0.01928571\n",
      "  0.00364286  0.03464286  0.01542857  0.00107143  0.00246429  0.00910714\n",
      "  0.0025      0.0025      0.00657143  0.00364286  0.03742857  0.00482143\n",
      "  0.00760714  0.01232143  0.00417857  0.01810714]\n"
     ]
    }
   ],
   "source": [
    "# Calculate percentage of each msm cluster by counting\n",
    "\n",
    "count = np.zeros([100], dtype=int)\n",
    "for cluster in msm_cluster:\n",
    "    count[cluster] += 1\n",
    "msm_pop_est = count/float(sum(count))\n",
    "print msm_pop_est"
   ]
  },
  {
   "cell_type": "code",
   "execution_count": 3,
   "metadata": {
    "collapsed": false
   },
   "outputs": [
    {
     "name": "stdout",
     "output_type": "stream",
     "text": [
      "[ 0.00367857  0.02425     0.005       0.023       0.00842857  0.01392857\n",
      "  0.01160714  0.00839286  0.00825     0.00964286  0.00796429  0.00803571\n",
      "  0.01996429  0.01146429  0.04289286  0.00842857  0.01621429  0.01589286\n",
      "  0.00946429  0.02803571  0.01146429  0.00467857  0.02271429  0.00721429\n",
      "  0.01371429  0.02807143  0.00292857  0.01021429  0.01085714  0.00582143\n",
      "  0.00882143  0.01242857  0.01085714  0.01371429  0.00792857  0.01007143\n",
      "  0.00435714  0.00664286  0.00482143  0.00803571  0.00421429  0.03471429\n",
      "  0.00760714  0.00828571  0.01203571  0.00271429  0.00632143  0.00360714\n",
      "  0.00467857  0.00482143  0.00803571  0.00575     0.01125     0.00992857\n",
      "  0.00807143  0.02017857  0.00635714  0.00621429  0.00546429  0.00439286\n",
      "  0.01078571  0.00610714  0.00653571  0.00464286  0.00225     0.00828571\n",
      "  0.00553571  0.00582143  0.01367857  0.00310714  0.01003571  0.01657143\n",
      "  0.00317857  0.005       0.01014286  0.01332143  0.00482143  0.00375\n",
      "  0.00646429  0.00396429  0.01085714  0.01057143  0.00785714  0.0175\n",
      "  0.00785714  0.00457143  0.01417857  0.01314286  0.00803571  0.00517857\n",
      "  0.00825     0.00796429  0.00671429  0.01142857  0.00196429  0.04910714\n",
      "  0.00628571  0.          0.          0.        ]\n"
     ]
    }
   ],
   "source": [
    "# Calculate percentage of each isomap cluster by counting\n",
    "\n",
    "iso_cluster = iso_cluster_list[0]\n",
    "count = np.zeros([100], dtype=int)\n",
    "for cluster in iso_cluster:\n",
    "    count[cluster] += 1\n",
    "iso_pop_est = count/float(sum(count))\n",
    "print iso_pop_est"
   ]
  },
  {
   "cell_type": "code",
   "execution_count": 4,
   "metadata": {
    "collapsed": false
   },
   "outputs": [
    {
     "name": "stdout",
     "output_type": "stream",
     "text": [
      "[  0 379   0 236   1   0   0   2   0   1   0   0   0   0 445   0   0   0\n",
      "   0  22   0   0 179   0   0  21   0   0   2   0   0  39   0   4   0   0\n",
      "   0   0   0   0   0   0   0   0  25   0   0   0   0   0   0   0   0   0\n",
      "   7 118   0   0   0   0   0   0   0   0   0   0   0   0   0   0   0  54\n",
      "   0   0   0  39   3   0   0   0   0   0   0   3   1   0  34   0   0   0\n",
      "   0   0   0   1   0 537   0   0   0   0]\n",
      "True\n"
     ]
    }
   ],
   "source": [
    "#compare isomap cluster to most populated cluster in msm\n",
    "\n",
    "cluster_id = np.argmax(msm_pop_est)\n",
    "msm_frames = np.where(msm_cluster == cluster_id)[0]\n",
    "\n",
    "iso_count = np.zeros([100], dtype=int)\n",
    "for idx in msm_frames:\n",
    "    iso_count[iso_cluster[idx]] += 1\n",
    "\n",
    "print iso_count\n",
    "print iso_count[np.argmax(iso_pop_est)] == max(iso_count)"
   ]
  },
  {
   "cell_type": "code",
   "execution_count": 5,
   "metadata": {
    "collapsed": false
   },
   "outputs": [
    {
     "name": "stdout",
     "output_type": "stream",
     "text": [
      "[  2   0   0   1   0   0   0   1   0   0   0   0   0   0   3   0   1 494\n",
      "   0   0   1   0   0   0   0   0   0   0   3   0   0   0   0   0   0   0\n",
      "   0   0   0   2   0  35   0   1   0   1   1   0   1   0   0   0   0   0\n",
      " 132   0 537   1   4   1   0  21   0   0   0   0   0   0   0   0   3   0\n",
      "   4   0   0   0  15   1   3   0   1   0   0   0  44   7   0   0   0   0\n",
      "   0   0   0   0  54   0   0   0   0   0]\n",
      "True\n"
     ]
    }
   ],
   "source": [
    "#compare msm cluster to most populated custer in isomap\n",
    "\n",
    "cluster_id = np.argmax(iso_pop_est)\n",
    "iso_frames = np.where(iso_cluster_30_40_97 == cluster_id)[0]\n",
    "\n",
    "msm_count = np.zeros([100], dtype=int)\n",
    "for idx in iso_frames:\n",
    "    msm_count[msm_cluster[idx]] += 1\n",
    "\n",
    "print msm_count\n",
    "print msm_count[np.argmax(msm_pop_est)]==max(msm_count)"
   ]
  },
  {
   "cell_type": "code",
   "execution_count": 21,
   "metadata": {
    "collapsed": false
   },
   "outputs": [
    {
     "name": "stdout",
     "output_type": "stream",
     "text": [
      "True 537 537\n",
      "True 494 494\n",
      "False 603 1\n",
      "True 466 466\n",
      "False 410 189\n",
      "False 379 11\n",
      "False 236 1\n",
      "False 207 0\n",
      "False 320 0\n",
      "False 492 0\n",
      "False 346 0\n",
      "False 127 0\n",
      "False 269 0\n",
      "False 424 0\n",
      "False 154 0\n",
      "True 139 139\n",
      "False 180 0\n",
      "False 166 1\n",
      "False 166 0\n",
      "False 118 21\n",
      "False 319 0\n",
      "False 67 0\n",
      "False 167 3\n",
      "False 117 0\n",
      "False 234 0\n",
      "False 308 0\n",
      "False 101 0\n",
      "False 87 0\n",
      "False 106 27\n",
      "False 268 0\n",
      "False 154 0\n",
      "False 180 0\n",
      "False 202 0\n",
      "False 252 0\n",
      "False 135 0\n",
      "False 137 0\n",
      "True 110 110\n",
      "False 150 0\n",
      "False 85 1\n",
      "False 130 0\n",
      "False 128 1\n",
      "False 74 0\n",
      "False 133 0\n",
      "False 162 0\n",
      "False 93 0\n",
      "False 127 0\n",
      "False 128 5\n",
      "False 93 62\n",
      "False 77 0\n",
      "False 219 0\n",
      "False 153 62\n",
      "False 211 0\n",
      "False 184 0\n",
      "False 73 3\n",
      "False 159 0\n",
      "False 100 0\n",
      "False 144 0\n",
      "False 104 0\n",
      "False 196 0\n",
      "False 113 37\n",
      "False 126 0\n",
      "False 120 0\n",
      "False 66 0\n",
      "False 66 0\n",
      "False 126 0\n",
      "False 155 0\n",
      "False 63 0\n",
      "False 110 0\n",
      "False 170 0\n",
      "False 64 0\n",
      "False 107 0\n",
      "False 99 0\n",
      "False 87 0\n",
      "False 100 0\n",
      "False 64 0\n",
      "False 116 0\n",
      "False 112 0\n",
      "False 49 0\n",
      "False 31 0\n",
      "False 128 0\n",
      "False 61 0\n",
      "False 59 0\n",
      "False 61 0\n",
      "False 72 0\n",
      "False 69 3\n",
      "False 76 0\n",
      "False 64 0\n",
      "False 99 0\n",
      "False 37 0\n",
      "False 65 0\n"
     ]
    }
   ],
   "source": [
    "# Check if the largest n clusters in isomap and msm overlap the most with each other\n",
    "\n",
    "#pick the iso_map to use\n",
    "iso_cluster = iso_cluster_list[0]\n",
    "\n",
    "# get population estimate for msm and isomap\n",
    "count = np.zeros([100], dtype=int)\n",
    "for cluster in msm_cluster:\n",
    "    count[cluster] += 1\n",
    "msm_pop_est = count/float(sum(count))\n",
    "\n",
    "count = np.zeros([100], dtype=int)\n",
    "for cluster in iso_cluster:\n",
    "    count[cluster] += 1\n",
    "iso_pop_est = count/float(sum(count))\n",
    "\n",
    "# check overlap of the nth largest cluster for msm and isomap\n",
    "for n in range(0,90):\n",
    "    msm_cluster_id = msm_pop_est.argsort()[:][::-1][n]\n",
    "    iso_cluster_id = iso_pop_est.argsort()[:][::-1][n]\n",
    "    \n",
    "    msm_frames = np.where(msm_cluster == msm_cluster_id)[0]\n",
    "    iso_frames = np.where(iso_cluster == iso_cluster_id)[0]\n",
    "\n",
    "    iso_count = np.zeros([100], dtype=int)\n",
    "    for idx in msm_frames:\n",
    "        iso_count[iso_cluster[idx]] += 1\n",
    "\n",
    "    msm_count = np.zeros([100], dtype=int)\n",
    "    for idx in iso_frames:\n",
    "        msm_count[msm_cluster[idx]] += 1\n",
    "\n",
    "    max_msm = msm_count[msm_cluster_id]\n",
    "    max_iso = iso_count[iso_cluster_id]\n",
    "\n",
    "    print np.argmax(msm_count) == msm_cluster_id, max(msm_count), msm_count[msm_cluster_id]"
   ]
  }
 ],
 "metadata": {
  "anaconda-cloud": {},
  "kernelspec": {
   "display_name": "Python [default]",
   "language": "python",
   "name": "python2"
  },
  "language_info": {
   "codemirror_mode": {
    "name": "ipython",
    "version": 2
   },
   "file_extension": ".py",
   "mimetype": "text/x-python",
   "name": "python",
   "nbconvert_exporter": "python",
   "pygments_lexer": "ipython2",
   "version": "2.7.11"
  }
 },
 "nbformat": 4,
 "nbformat_minor": 2
}
