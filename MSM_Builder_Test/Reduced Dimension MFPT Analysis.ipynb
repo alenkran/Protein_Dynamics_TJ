{
 "cells": [
  {
   "cell_type": "markdown",
   "metadata": {},
   "source": [
    "# Reduced Dimension MFPT Analysis"
   ]
  },
  {
   "cell_type": "raw",
   "metadata": {},
   "source": [
    "This notebook contains code for performing MFPT analysis in the reduced dimension, using both KernelPCA and ISOMAP. MFPT plots and correlation values are computed.\n",
    "\n",
    "*** Enter the appropriate base path for files in the cell below."
   ]
  },
  {
   "cell_type": "code",
   "execution_count": 399,
   "metadata": {
    "collapsed": false
   },
   "outputs": [],
   "source": [
    "import tempfile\n",
    "import os\n",
    "import numpy as np\n",
    "from msmbuilder.example_datasets import FsPeptide\n",
    "from msmbuilder.dataset import dataset\n",
    "from msmbuilder.featurizer import DihedralFeaturizer\n",
    "from sklearn.decomposition import PCA\n",
    "import mdtraj as md\n",
    "import msmbuilder.utils as msmUtils\n",
    "from msmbuilder.tpt import mfpts\n",
    "import matplotlib.pyplot as plt\n",
    "from scipy import stats\n",
    "import scipy"
   ]
  },
  {
   "cell_type": "code",
   "execution_count": 2,
   "metadata": {
    "collapsed": true
   },
   "outputs": [],
   "source": [
    "%matplotlib inline"
   ]
  },
  {
   "cell_type": "code",
   "execution_count": 3,
   "metadata": {
    "collapsed": false
   },
   "outputs": [],
   "source": [
    "# Base path for all files\n",
    "#base = 'C:\\Users\\MinCheol\\Documents\\TJ_data'\n",
    "base = 'C:\\\\Users\\\\minch_000\\\\Documents\\\\TJ_data'"
   ]
  },
  {
   "cell_type": "markdown",
   "metadata": {},
   "source": [
    "## FsPeptide Analysis"
   ]
  },
  {
   "cell_type": "markdown",
   "metadata": {},
   "source": [
    "### ISOMAP"
   ]
  },
  {
   "cell_type": "markdown",
   "metadata": {},
   "source": [
    "#### MFPT vs Distance in ISOMAP Space"
   ]
  },
  {
   "cell_type": "code",
   "execution_count": 429,
   "metadata": {
    "collapsed": false
   },
   "outputs": [],
   "source": [
    "# import the msm, raw XYZ coordinates, and the cluster assignments\n",
    "fs_msm = msmUtils.load(base + '\\\\fspeptide\\msm\\msm.pkl')\n",
    "X_rd = np.load(base + '\\\\fspeptide\\\\reduced_dimension\\\\X_isomap_40_40_10000.dat')\n",
    "cluster_assignments = np.loadtxt(base + '\\\\fspeptide\\msm\\msm_clustering_labels.csv', delimiter=',')\n",
    "chosen_indices = np.loadtxt(base + '\\\\fspeptide\\msm\\indices_12000.csv', delimiter=',')"
   ]
  },
  {
   "cell_type": "code",
   "execution_count": 430,
   "metadata": {
    "collapsed": false
   },
   "outputs": [],
   "source": [
    "# Collect MFPT\n",
    "#fs_mfpt_matrix = (mfpts(fs_msm) + mfpts(fs_msm).transpose())\n",
    "fs_mfpt_matrix = mfpts(fs_msm)"
   ]
  },
  {
   "cell_type": "code",
   "execution_count": 441,
   "metadata": {
    "collapsed": false
   },
   "outputs": [],
   "source": [
    "# Parameters for MFPT plots\n",
    "num_frames = X_rd.shape[0]\n",
    "num_points = 500"
   ]
  },
  {
   "cell_type": "code",
   "execution_count": 442,
   "metadata": {
    "collapsed": false
   },
   "outputs": [],
   "source": [
    "distances = []\n",
    "mfpt_times = []\n",
    "for p in range(num_points):\n",
    "    frame_pair = np.random.randint(low=0, high=num_frames-1, size=2) # frame number in sim_data\n",
    "    #true_frame_pair = frame_pair\n",
    "    true_frame_pair = (int(chosen_indices[frame_pair[0]]), int(chosen_indices[frame_pair[1]])) # corresponding original frame numbers\n",
    "    msm_frame_pair = (fs_msm.mapping_[cluster_assignments[true_frame_pair[0]]], fs_msm.mapping_[cluster_assignments[true_frame_pair[1]]])\n",
    "    rd_distance = np.linalg.norm(X_rd[frame_pair[0],:] - X_rd[frame_pair[1], :], 2)\n",
    "    if msm_frame_pair[0] != msm_frame_pair[1]:\n",
    "        distances.append(rd_distance)\n",
    "        mfpt_times.append(np.mean([fs_mfpt_matrix[msm_frame_pair[0]][msm_frame_pair[1]],fs_mfpt_matrix[msm_frame_pair[1]][msm_frame_pair[0]]]))"
   ]
  },
  {
   "cell_type": "code",
   "execution_count": 443,
   "metadata": {
    "collapsed": false
   },
   "outputs": [
    {
     "data": {
      "text/plain": [
       "<matplotlib.text.Text at 0x280adba4940>"
      ]
     },
     "execution_count": 443,
     "metadata": {},
     "output_type": "execute_result"
    },
    {
     "data": {
      "image/png": "[encoded data removed]",
      "text/plain": [
       "<matplotlib.figure.Figure at 0x280abed6be0>"
      ]
     },
     "metadata": {},
     "output_type": "display_data"
    }
   ],
   "source": [
    "x = np.array(distances)\n",
    "y = np.log(np.array(mfpt_times))\n",
    "plt.scatter(x, y)\n",
    "plt.xlabel('Distance in ISOMAP space')\n",
    "plt.ylabel('MFPT')"
   ]
  },
  {
   "cell_type": "markdown",
   "metadata": {},
   "source": [
    "#### Flux vs Distance in ISOMAP space"
   ]
  },
  {
   "cell_type": "code",
   "execution_count": 435,
   "metadata": {
    "collapsed": false
   },
   "outputs": [],
   "source": [
    "# Get flux matrix\n",
    "Pi = np.diag(fs_msm.populations_)\n",
    "Pi = scipy.linalg.fractional_matrix_power(Pi, 1)\n",
    "Pi_L = scipy.linalg.fractional_matrix_power(Pi, 0.5)\n",
    "Pi_R = scipy.linalg.fractional_matrix_power(Pi, -0.5)\n",
    "T = fs_msm.transmat_\n",
    "flux = np.linalg.multi_dot([Pi_L,T,Pi_R])"
   ]
  },
  {
   "cell_type": "code",
   "execution_count": 436,
   "metadata": {
    "collapsed": false
   },
   "outputs": [],
   "source": [
    "# Parameters for MFPT plots\n",
    "num_frames = X_rd.shape[0]\n",
    "num_points = 100000"
   ]
  },
  {
   "cell_type": "code",
   "execution_count": 437,
   "metadata": {
    "collapsed": false
   },
   "outputs": [],
   "source": [
    "distances = []\n",
    "fluxes = []\n",
    "for p in range(num_points):\n",
    "    frame_pair = np.random.randint(low=0, high=num_frames-1, size=2) # frame number in sim_data\n",
    "    #true_frame_pair = frame_pair\n",
    "    true_frame_pair = (int(chosen_indices[frame_pair[0]]), int(chosen_indices[frame_pair[1]])) # corresponding original frame numbers\n",
    "    msm_frame_pair = (fs_msm.mapping_[cluster_assignments[true_frame_pair[0]]], fs_msm.mapping_[cluster_assignments[true_frame_pair[1]]])\n",
    "    rd_distance = np.linalg.norm(X_rd[frame_pair[0],:] - X_rd[frame_pair[1], :], 2)\n",
    "    if rd_distance < 100000 and msm_frame_pair[0] != msm_frame_pair[1] and flux[msm_frame_pair[0]][msm_frame_pair[1]] > 0 :\n",
    "        distances.append(rd_distance)\n",
    "        fluxes.append(flux[msm_frame_pair[0]][msm_frame_pair[1]])"
   ]
  },
  {
   "cell_type": "code",
   "execution_count": 438,
   "metadata": {
    "collapsed": false
   },
   "outputs": [
    {
     "data": {
      "text/plain": [
       "<matplotlib.text.Text at 0x280abd66668>"
      ]
     },
     "execution_count": 438,
     "metadata": {},
     "output_type": "execute_result"
    },
    {
     "data": {
      "image/png": "[encoded data removed]",
      "text/plain": [
       "<matplotlib.figure.Figure at 0x280abde2c18>"
      ]
     },
     "metadata": {},
     "output_type": "display_data"
    }
   ],
   "source": [
    "x = np.array(distances)\n",
    "y = np.array(fluxes)\n",
    "plt.scatter(x, y)\n",
    "plt.xlabel('Distance in ISOMAP space')\n",
    "plt.ylabel('Flux')"
   ]
  },
  {
   "cell_type": "markdown",
   "metadata": {},
   "source": [
    "## Calmodulin Baseline MFPT"
   ]
  },
  {
   "cell_type": "markdown",
   "metadata": {},
   "source": [
    "#### MFPT vs RMSD Plots"
   ]
  },
  {
   "cell_type": "raw",
   "metadata": {},
   "source": [
    "Once again, there is no very clear connection, but the blank space in the middle is fascinating."
   ]
  },
  {
   "cell_type": "code",
   "execution_count": 444,
   "metadata": {
    "collapsed": false
   },
   "outputs": [],
   "source": [
    "# import the msm, raw XYZ coordinates, and the cluster assignments\n",
    "cal_msm = msmUtils.load(base + '\\\\apo_calmodulin\\msm\\msm.pkl')\n",
    "X_rd = np.load(base + '\\\\apo_calmodulin\\\\reduced_dimension\\\\X_isomap_30_10_15000.dat')\n",
    "cluster_assignments = np.loadtxt(base + '\\\\apo_calmodulin\\msm\\msm_clustering_labels.csv', delimiter=',')\n",
    "chosen_indices = np.loadtxt(base + '\\\\apo_calmodulin\\msm\\indices_15000.csv', delimiter=',')"
   ]
  },
  {
   "cell_type": "code",
   "execution_count": 445,
   "metadata": {
    "collapsed": false
   },
   "outputs": [],
   "source": [
    "# Collect MFPT\n",
    "cal_mfpt_matrix = (mfpts(cal_msm) + mfpts(cal_msm).T)/2"
   ]
  },
  {
   "cell_type": "code",
   "execution_count": 453,
   "metadata": {
    "collapsed": true
   },
   "outputs": [],
   "source": [
    "# Parameters for MFPT plots\n",
    "num_frames = X_rd.shape[0]\n",
    "num_points = 5000"
   ]
  },
  {
   "cell_type": "code",
   "execution_count": 454,
   "metadata": {
    "collapsed": false
   },
   "outputs": [],
   "source": [
    "distances = []\n",
    "mfpt_times = []\n",
    "for p in range(num_points):\n",
    "    frame_pair = np.random.randint(low=0, high=num_frames-1, size=2) # frame number in sim_data\n",
    "    true_frame_pair = (int(chosen_indices[frame_pair[0]]), int(chosen_indices[frame_pair[1]])) # corresponding original frame numbers\n",
    "    msm_frame_pair = (cal_msm.mapping_[cluster_assignments[true_frame_pair[0]]], cal_msm.mapping_[cluster_assignments[true_frame_pair[1]]])\n",
    "    rd_distance = np.linalg.norm(X_rd[frame_pair[0],:] - X_rd[frame_pair[1], :])\n",
    "    if msm_frame_pair[0] != msm_frame_pair[1] and cal_mfpt_matrix[msm_frame_pair[0]][msm_frame_pair[1]] >= 0 and rd_distance < 1000:\n",
    "        distances.append(rd_distance)\n",
    "        mfpt_times.append(cal_mfpt_matrix[msm_frame_pair[0]][msm_frame_pair[1]])"
   ]
  },
  {
   "cell_type": "code",
   "execution_count": 455,
   "metadata": {
    "collapsed": false
   },
   "outputs": [
    {
     "data": {
      "text/plain": [
       "<matplotlib.text.Text at 0x280ad5d3748>"
      ]
     },
     "execution_count": 455,
     "metadata": {},
     "output_type": "execute_result"
    },
    {
     "data": {
      "image/png": "[encoded data removed]",
      "text/plain": [
       "<matplotlib.figure.Figure at 0x280ad5f6b38>"
      ]
     },
     "metadata": {},
     "output_type": "display_data"
    }
   ],
   "source": [
    "plt.scatter(np.array(distances), np.log(np.log(np.array(mfpt_times))))\n",
    "plt.xlabel('Distance in reduced dimension')\n",
    "plt.ylabel('MFPT')"
   ]
  },
  {
   "cell_type": "code",
   "execution_count": null,
   "metadata": {
    "collapsed": true
   },
   "outputs": [],
   "source": []
  }
 ],
 "metadata": {
  "kernelspec": {
   "display_name": "Python 3",
   "language": "python",
   "name": "python3"
  },
  "language_info": {
   "codemirror_mode": {
    "name": "ipython",
    "version": 3
   },
   "file_extension": ".py",
   "mimetype": "text/x-python",
   "name": "python",
   "nbconvert_exporter": "python",
   "pygments_lexer": "ipython3",
   "version": "3.6.0"
  }
 },
 "nbformat": 4,
 "nbformat_minor": 0
}
