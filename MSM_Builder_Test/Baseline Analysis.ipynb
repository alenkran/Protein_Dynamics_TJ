{
 "cells": [
  {
   "cell_type": "markdown",
   "metadata": {},
   "source": [
    "# Baseline Analysis"
   ]
  },
  {
   "cell_type": "raw",
   "metadata": {},
   "source": [
    "This notebook contains code for performing some of the baseline analysis. The baseline analysis uses RMSD as the distance metric (not in any reduced dimensinon) and performs PCA directly. \n",
    "\n",
    "*** Enter the appropriate base path for files in the cell below."
   ]
  },
  {
   "cell_type": "code",
   "execution_count": 10,
   "metadata": {
    "collapsed": true
   },
   "outputs": [],
   "source": [
    "import tempfile\n",
    "import os\n",
    "import numpy as np\n",
    "from msmbuilder.example_datasets import FsPeptide\n",
    "from msmbuilder.dataset import dataset\n",
    "from msmbuilder.featurizer import DihedralFeaturizer\n",
    "from sklearn.decomposition import PCA\n",
    "import mdtraj as md\n",
    "import msmbuilder.utils as msmUtils\n",
    "from msmbuilder.tpt import mfpts\n",
    "import matplotlib.pyplot as plt"
   ]
  },
  {
   "cell_type": "code",
   "execution_count": 28,
   "metadata": {
    "collapsed": true
   },
   "outputs": [],
   "source": [
    "%matplotlib inline"
   ]
  },
  {
   "cell_type": "code",
   "execution_count": 8,
   "metadata": {
    "collapsed": false
   },
   "outputs": [],
   "source": [
    "# Base path for all files\n",
    "base = 'C:\\Users\\MinCheol\\Documents\\TJ_data'"
   ]
  },
  {
   "cell_type": "markdown",
   "metadata": {},
   "source": [
    "## FsPeptide Baseline MFPT"
   ]
  },
  {
   "cell_type": "markdown",
   "metadata": {},
   "source": [
    "#### MFPT vs RMSD Plots"
   ]
  },
  {
   "cell_type": "code",
   "execution_count": 13,
   "metadata": {
    "collapsed": false
   },
   "outputs": [],
   "source": [
    "# import the msm, raw XYZ coordinates, and the cluster assignments\n",
    "#fs_msm = msmUtils.load(base + '\\\\fspeptide\\msm\\msm.pkl')\n",
    "X = np.loadtxt(base + '\\\\fspeptide\\sim_datasets\\\\raw_XYZ_10000.csv', delimiter=',')\n",
    "cluster_assignments = np.loadtxt(base + '\\\\fspeptide\\msm\\msm_clustering_labels.csv', delimiter=',')"
   ]
  },
  {
   "cell_type": "code",
   "execution_count": 14,
   "metadata": {
    "collapsed": false
   },
   "outputs": [
    {
     "ename": "IOError",
     "evalue": "Unable to load C:\\Users\\MinCheol\\Documents\\TJ_data\\fspeptide\\msm\\msm.pkl using the pickle or joblib protocol.\nPickle: unsupported pickle protocol: 3\nJoblib: unsupported pickle protocol: 3",
     "output_type": "error",
     "traceback": [
      "\u001b[0;31m---------------------------------------------------------------------------\u001b[0m",
      "\u001b[0;31mIOError\u001b[0m                                   Traceback (most recent call last)",
      "\u001b[0;32m<ipython-input-14-a4cb13ff9f55>\u001b[0m in \u001b[0;36m<module>\u001b[0;34m()\u001b[0m\n\u001b[0;32m----> 1\u001b[0;31m \u001b[0mfs_msm\u001b[0m \u001b[1;33m=\u001b[0m \u001b[0mmsmUtils\u001b[0m\u001b[1;33m.\u001b[0m\u001b[0mload\u001b[0m\u001b[1;33m(\u001b[0m\u001b[0mbase\u001b[0m \u001b[1;33m+\u001b[0m \u001b[1;34m'\\\\fspeptide\\msm\\msm.pkl'\u001b[0m\u001b[1;33m)\u001b[0m\u001b[1;33m\u001b[0m\u001b[0m\n\u001b[0m",
      "\u001b[0;32mC:\\Users\\MinCheol\\Anaconda2\\lib\\site-packages\\msmbuilder\\utils\\io.pyc\u001b[0m in \u001b[0;36mload\u001b[0;34m(filename)\u001b[0m\n\u001b[1;32m     63\u001b[0m                 \u001b[1;34m\"Unable to load {} using the pickle or joblib protocol.\\n\"\u001b[0m\u001b[1;33m\u001b[0m\u001b[0m\n\u001b[1;32m     64\u001b[0m                 \u001b[1;34m\"Pickle: {}\\n\"\u001b[0m\u001b[1;33m\u001b[0m\u001b[0m\n\u001b[0;32m---> 65\u001b[0;31m                 \u001b[1;34m\"Joblib: {}\"\u001b[0m\u001b[1;33m.\u001b[0m\u001b[0mformat\u001b[0m\u001b[1;33m(\u001b[0m\u001b[0mfilename\u001b[0m\u001b[1;33m,\u001b[0m \u001b[0me1\u001b[0m\u001b[1;33m,\u001b[0m \u001b[0me2\u001b[0m\u001b[1;33m)\u001b[0m\u001b[1;33m\u001b[0m\u001b[0m\n\u001b[0m\u001b[1;32m     66\u001b[0m             )\n\u001b[1;32m     67\u001b[0m \u001b[1;33m\u001b[0m\u001b[0m\n",
      "\u001b[0;31mIOError\u001b[0m: Unable to load C:\\Users\\MinCheol\\Documents\\TJ_data\\fspeptide\\msm\\msm.pkl using the pickle or joblib protocol.\nPickle: unsupported pickle protocol: 3\nJoblib: unsupported pickle protocol: 3"
     ]
    }
   ],
   "source": [
    "fs_msm = msmUtils.load(base + '\\\\fspeptide\\msm\\msm.pkl')"
   ]
  },
  {
   "cell_type": "code",
   "execution_count": 60,
   "metadata": {
    "collapsed": false
   },
   "outputs": [],
   "source": [
    "# Collect MFPT\n",
    "fs_mfpt_matrix = (mfpts(fs_msm) + mfpts(fs_msm).T)/2"
   ]
  },
  {
   "cell_type": "code",
   "execution_count": 69,
   "metadata": {
    "collapsed": true
   },
   "outputs": [],
   "source": [
    "# Parameters for MFPT plots\n",
    "num_frames = X.shape[0]\n",
    "num_points = 500"
   ]
  },
  {
   "cell_type": "code",
   "execution_count": 70,
   "metadata": {
    "collapsed": false
   },
   "outputs": [],
   "source": [
    "distances = []\n",
    "mfpt_times = []\n",
    "for p in range(num_points):\n",
    "    frame_pair = np.random.randint(low=0, high=num_frames-1, size=2)\n",
    "    msm_frame_pair = (fs_msm.mapping_[cluster_assignments[frame_pair[0]]], fs_msm.mapping_[cluster_assignments[frame_pair[1]]])\n",
    "    if msm_frame_pair[0] != msm_frame_pair[1] and mfpt_matrix[msm_frame_pair[0]][msm_frame_pair[1]] > 0:\n",
    "        distances.append(np.linalg.norm(X[frame_pair[0],:] - X[frame_pair[1], :]))\n",
    "        mfpt_times.append(mfpt_matrix[msm_frame_pair[0]][msm_frame_pair[1]])"
   ]
  },
  {
   "cell_type": "code",
   "execution_count": 71,
   "metadata": {
    "collapsed": false
   },
   "outputs": [
    {
     "data": {
      "text/plain": [
       "<matplotlib.collections.PathCollection at 0x124a09b0>"
      ]
     },
     "execution_count": 71,
     "metadata": {},
     "output_type": "execute_result"
    },
    {
     "data": {
      "image/png": "[encoded data removed]",
      "text/plain": [
       "<matplotlib.figure.Figure at 0x22b305c0>"
      ]
     },
     "metadata": {},
     "output_type": "display_data"
    }
   ],
   "source": [
    "plt.scatter(np.array(distances), np.log(np.array(mfpt_times)))"
   ]
  },
  {
   "cell_type": "markdown",
   "metadata": {},
   "source": [
    "## Calmodulin Baseline"
   ]
  },
  {
   "cell_type": "code",
   "execution_count": 68,
   "metadata": {
    "collapsed": false
   },
   "outputs": [
    {
     "ename": "IOError",
     "evalue": "Unable to load C:\\Users\\minch_000\\Documents\\TJ_data\\calmodulin\\msm_out\\Assignments.Fixed.h5 using the pickle or joblib protocol.\nPickle: 'H'\nJoblib: 'H'",
     "output_type": "error",
     "traceback": [
      "\u001b[1;31m---------------------------------------------------------------------------\u001b[0m",
      "\u001b[1;31mIOError\u001b[0m                                   Traceback (most recent call last)",
      "\u001b[1;32m<ipython-input-68-c929fe516a45>\u001b[0m in \u001b[0;36m<module>\u001b[1;34m()\u001b[0m\n\u001b[0;32m      1\u001b[0m \u001b[1;31m# import the msm, raw XYZ coordinates, and the cluster assignments\u001b[0m\u001b[1;33m\u001b[0m\u001b[1;33m\u001b[0m\u001b[0m\n\u001b[1;32m----> 2\u001b[1;33m \u001b[0mcal_msm\u001b[0m \u001b[1;33m=\u001b[0m \u001b[0mmsmUtils\u001b[0m\u001b[1;33m.\u001b[0m\u001b[0mload\u001b[0m\u001b[1;33m(\u001b[0m\u001b[1;34m'C:\\Users\\minch_000\\Documents\\TJ_data\\calmodulin\\msm_out\\Assignments.Fixed.h5'\u001b[0m\u001b[1;33m)\u001b[0m\u001b[1;33m\u001b[0m\u001b[0m\n\u001b[0m",
      "\u001b[1;32mC:\\Users\\minch_000\\Anaconda2\\lib\\site-packages\\msmbuilder\\utils\\io.pyc\u001b[0m in \u001b[0;36mload\u001b[1;34m(filename)\u001b[0m\n\u001b[0;32m     63\u001b[0m                 \u001b[1;34m\"Unable to load {} using the pickle or joblib protocol.\\n\"\u001b[0m\u001b[1;33m\u001b[0m\u001b[0m\n\u001b[0;32m     64\u001b[0m                 \u001b[1;34m\"Pickle: {}\\n\"\u001b[0m\u001b[1;33m\u001b[0m\u001b[0m\n\u001b[1;32m---> 65\u001b[1;33m                 \u001b[1;34m\"Joblib: {}\"\u001b[0m\u001b[1;33m.\u001b[0m\u001b[0mformat\u001b[0m\u001b[1;33m(\u001b[0m\u001b[0mfilename\u001b[0m\u001b[1;33m,\u001b[0m \u001b[0me1\u001b[0m\u001b[1;33m,\u001b[0m \u001b[0me2\u001b[0m\u001b[1;33m)\u001b[0m\u001b[1;33m\u001b[0m\u001b[0m\n\u001b[0m\u001b[0;32m     66\u001b[0m             )\n\u001b[0;32m     67\u001b[0m \u001b[1;33m\u001b[0m\u001b[0m\n",
      "\u001b[1;31mIOError\u001b[0m: Unable to load C:\\Users\\minch_000\\Documents\\TJ_data\\calmodulin\\msm_out\\Assignments.Fixed.h5 using the pickle or joblib protocol.\nPickle: 'H'\nJoblib: 'H'"
     ]
    }
   ],
   "source": [
    "# import the msm, raw XYZ coordinates, and the cluster assignments\n",
    "cal_msm = msmUtils.load('C:\\Users\\minch_000\\Documents\\TJ_data\\calmodulin\\msm_out\\Assignments.Fixed.h5')"
   ]
  }
 ],
 "metadata": {
  "kernelspec": {
   "display_name": "Python 2",
   "language": "python",
   "name": "python2"
  },
  "language_info": {
   "codemirror_mode": {
    "name": "ipython",
    "version": 2
   },
   "file_extension": ".py",
   "mimetype": "text/x-python",
   "name": "python",
   "nbconvert_exporter": "python",
   "pygments_lexer": "ipython2",
   "version": "2.7.13"
  }
 },
 "nbformat": 4,
 "nbformat_minor": 0
}
