{
 "cells": [
  {
   "cell_type": "markdown",
   "metadata": {},
   "source": [
    "# Baseline Analysis"
   ]
  },
  {
   "cell_type": "raw",
   "metadata": {},
   "source": [
    "This notebook contains code for performing some of the baseline analysis. The baseline analysis uses RMSD as the distance metric (not in any reduced dimensinon) and performs PCA directly. \n",
    "\n",
    "*** Enter the appropriate base path for files in the cell below."
   ]
  },
  {
   "cell_type": "code",
   "execution_count": 1,
   "metadata": {
    "collapsed": false,
    "scrolled": true
   },
   "outputs": [
    {
     "name": "stderr",
     "output_type": "stream",
     "text": [
      "C:\\Users\\minch_000\\Anaconda3\\lib\\site-packages\\sklearn\\cross_validation.py:44: DeprecationWarning: This module was deprecated in version 0.18 in favor of the model_selection module into which all the refactored classes and functions are moved. Also note that the interface of the new CV iterators are different from that of this module. This module will be removed in 0.20.\n",
      "  \"This module will be removed in 0.20.\", DeprecationWarning)\n",
      "C:\\Users\\minch_000\\Anaconda3\\lib\\site-packages\\sklearn\\grid_search.py:43: DeprecationWarning: This module was deprecated in version 0.18 in favor of the model_selection module into which all the refactored classes and functions are moved. This module will be removed in 0.20.\n",
      "  DeprecationWarning)\n",
      "C:\\Users\\minch_000\\Anaconda3\\lib\\site-packages\\statsmodels\\compat\\pandas.py:56: FutureWarning: The pandas.core.datetools module is deprecated and will be removed in a future version. Please use the pandas.tseries module instead.\n",
      "  from pandas.core import datetools\n"
     ]
    }
   ],
   "source": [
    "import tempfile\n",
    "import os\n",
    "import numpy as np\n",
    "from msmbuilder.example_datasets import FsPeptide\n",
    "from msmbuilder.dataset import dataset\n",
    "from msmbuilder.featurizer import DihedralFeaturizer\n",
    "from sklearn.decomposition import PCA\n",
    "import mdtraj as md\n",
    "import msmbuilder\n",
    "import msmbuilder.utils as msmUtils\n",
    "from msmbuilder.tpt import mfpts\n",
    "import matplotlib.pyplot as plt\n",
    "from scipy import stats"
   ]
  },
  {
   "cell_type": "code",
   "execution_count": 12,
   "metadata": {
    "collapsed": false
   },
   "outputs": [],
   "source": [
    "%matplotlib inline"
   ]
  },
  {
   "cell_type": "code",
   "execution_count": 2,
   "metadata": {
    "collapsed": false
   },
   "outputs": [],
   "source": [
    "# Base path for all files\n",
    "#base = 'C:\\Users\\MinCheol\\Documents\\TJ_data'\n",
    "base = 'C:\\\\Users\\\\minch_000\\\\Documents\\\\TJ_data'\n",
    "#base = 'C:\\\\Users\\\\Christian\\Documents\\\\GitHub\\\\Protein_Dynamics_TJ\\\\MSM_Builder_Test\\\\Sherlock_Data'"
   ]
  },
  {
   "cell_type": "markdown",
   "metadata": {},
   "source": [
    "## FsPeptide Baseline MFPT"
   ]
  },
  {
   "cell_type": "markdown",
   "metadata": {},
   "source": [
    "#### MFPT vs RMSD Plots"
   ]
  },
  {
   "cell_type": "raw",
   "metadata": {},
   "source": [
    "There is no real clear connection between RMSD and MFPT, as expected."
   ]
  },
  {
   "cell_type": "code",
   "execution_count": 43,
   "metadata": {
    "collapsed": false
   },
   "outputs": [],
   "source": [
    "# import the msm, raw XYZ coordinates, and the cluster assignments\n",
    "fs_msm = msmUtils.load(base + '\\\\fspeptide\\\\sim_datasets\\\\msm.pkl')\n",
    "X = np.loadtxt(base + '\\\\fspeptide\\sim_datasets\\\\raw_XYZ_15000.csv', delimiter=',')\n",
    "sample_cluster_assignments = np.loadtxt(base + '\\\\fspeptide\\sim_datasets\\sample_cluster_assignment_15000.csv', delimiter=',')"
   ]
  },
  {
   "cell_type": "code",
   "execution_count": 44,
   "metadata": {
    "collapsed": false
   },
   "outputs": [],
   "source": [
    "# Collect MFPT\n",
    "fs_mfpt_matrix = (mfpts(fs_msm) + mfpts(fs_msm).T)/2"
   ]
  },
  {
   "cell_type": "code",
   "execution_count": 45,
   "metadata": {
    "collapsed": false
   },
   "outputs": [],
   "source": [
    "# Parameters for MFPT plots\n",
    "num_frames = X.shape[0]\n",
    "num_points = 500"
   ]
  },
  {
   "cell_type": "code",
   "execution_count": 46,
   "metadata": {
    "collapsed": false
   },
   "outputs": [],
   "source": [
    "distances = []\n",
    "mfpt_times = []\n",
    "for p in range(num_points):\n",
    "    frame_pair = np.random.randint(low=0, high=num_frames-1, size=2) # frame number in sim_data\n",
    "    msm_frame_pair = (fs_msm.mapping_[sample_cluster_assignments[frame_pair[0]]], fs_msm.mapping_[sample_cluster_assignments[frame_pair[1]]])\n",
    "    if msm_frame_pair[0] != msm_frame_pair[1] and fs_mfpt_matrix[msm_frame_pair[0]][msm_frame_pair[1]] > 0:\n",
    "        distances.append(np.linalg.norm(X[frame_pair[0],:] - X[frame_pair[1], :]))\n",
    "        mfpt_times.append(fs_mfpt_matrix[msm_frame_pair[0]][msm_frame_pair[1]])"
   ]
  },
  {
   "cell_type": "code",
   "execution_count": 47,
   "metadata": {
    "collapsed": false
   },
   "outputs": [
    {
     "data": {
      "text/plain": [
       "<matplotlib.text.Text at 0x154175905c0>"
      ]
     },
     "execution_count": 47,
     "metadata": {},
     "output_type": "execute_result"
    },
    {
     "data": {
      "image/png": "[encoded data removed]",
      "text/plain": [
       "<matplotlib.figure.Figure at 0x15471f161d0>"
      ]
     },
     "metadata": {},
     "output_type": "display_data"
    }
   ],
   "source": [
    "plt.scatter(np.array(distances), np.log(np.array(mfpt_times)))\n",
    "plt.xlabel('Distance in XYZ space')\n",
    "plt.ylabel('MFPT')"
   ]
  },
  {
   "cell_type": "code",
   "execution_count": 50,
   "metadata": {
    "collapsed": false
   },
   "outputs": [
    {
     "name": "stdout",
     "output_type": "stream",
     "text": [
      "1.78947675842e-26\n"
     ]
    }
   ],
   "source": [
    "slope, intercept, r_value, p_value, std_err = stats.linregress(np.array(distances),(np.array(mfpt_times)))\n",
    "print(p_value)"
   ]
  },
  {
   "cell_type": "markdown",
   "metadata": {},
   "source": [
    "## Calmodulin Baseline MFPT"
   ]
  },
  {
   "cell_type": "markdown",
   "metadata": {},
   "source": [
    "#### MFPT vs RMSD Plots"
   ]
  },
  {
   "cell_type": "raw",
   "metadata": {},
   "source": [
    "Once again, there is no very clear connection, but the blank space in the middle is fascinating."
   ]
  },
  {
   "cell_type": "code",
   "execution_count": 51,
   "metadata": {
    "collapsed": false
   },
   "outputs": [],
   "source": [
    "# import the msm, raw XYZ coordinates, and the cluster assignments\n",
    "cal_msm = msmUtils.load(base + r'\\apo_calmodulin\\sim_datasets\\msm.pkl')\n",
    "X = np.loadtxt(base + r'\\apo_calmodulin\\sim_datasets\\raw_XYZ_10000.csv', delimiter=',')\n",
    "sample_cluster_assignments = np.loadtxt(base + r'\\apo_calmodulin\\sim_datasets\\sample_cluster_assignment_10000.csv', delimiter=',')"
   ]
  },
  {
   "cell_type": "code",
   "execution_count": 52,
   "metadata": {
    "collapsed": false
   },
   "outputs": [],
   "source": [
    "# Collect MFPT\n",
    "cal_mfpt_matrix = (mfpts(cal_msm) + mfpts(cal_msm).T)/2"
   ]
  },
  {
   "cell_type": "code",
   "execution_count": 53,
   "metadata": {
    "collapsed": true
   },
   "outputs": [],
   "source": [
    "# Parameters for MFPT plots\n",
    "num_frames = X.shape[0]\n",
    "num_points = 5000"
   ]
  },
  {
   "cell_type": "code",
   "execution_count": 54,
   "metadata": {
    "collapsed": false
   },
   "outputs": [],
   "source": [
    "distances = []\n",
    "mfpt_times = []\n",
    "for p in range(num_points):\n",
    "    frame_pair = np.random.randint(low=0, high=num_frames-1, size=2) # frame number in sim_data\n",
    "    msm_frame_pair = (cal_msm.mapping_[sample_cluster_assignments[frame_pair[0]]], cal_msm.mapping_[sample_cluster_assignments[frame_pair[1]]])\n",
    "    if msm_frame_pair[0] != msm_frame_pair[1] and cal_mfpt_matrix[msm_frame_pair[0]][msm_frame_pair[1]] > 0:\n",
    "        distances.append(np.linalg.norm(X[frame_pair[0],:] - X[frame_pair[1], :]))\n",
    "        mfpt_times.append(cal_mfpt_matrix[msm_frame_pair[0]][msm_frame_pair[1]])"
   ]
  },
  {
   "cell_type": "code",
   "execution_count": 64,
   "metadata": {
    "collapsed": false
   },
   "outputs": [
    {
     "data": {
      "text/plain": [
       "<matplotlib.collections.PathCollection at 0x15455f15e80>"
      ]
     },
     "execution_count": 64,
     "metadata": {},
     "output_type": "execute_result"
    },
    {
     "data": {
      "image/png": "[encoded data removed]",
      "text/plain": [
       "<matplotlib.figure.Figure at 0x154145d55f8>"
      ]
     },
     "metadata": {},
     "output_type": "display_data"
    }
   ],
   "source": [
    "plt.scatter(np.array(distances), np.log(np.array(mfpt_times)))"
   ]
  },
  {
   "cell_type": "code",
   "execution_count": 69,
   "metadata": {
    "collapsed": false
   },
   "outputs": [
    {
     "name": "stdout",
     "output_type": "stream",
     "text": [
      "8.49333052789e-292\n"
     ]
    }
   ],
   "source": [
    "slope, intercept, r_value, p_value, std_err = stats.linregress(np.array(distances),np.log(np.array(mfpt_times)))\n",
    "print(p_value)"
   ]
  },
  {
   "cell_type": "code",
   "execution_count": 77,
   "metadata": {
    "collapsed": false
   },
   "outputs": [
    {
     "data": {
      "image/png": "[encoded data removed]",
      "text/plain": [
       "<matplotlib.figure.Figure at 0x1543b95f470>"
      ]
     },
     "metadata": {},
     "output_type": "display_data"
    }
   ],
   "source": [
    "heatmap, _, _ = np.histogram2d(np.array(distances), np.log(np.array(mfpt_times)), bins=20)\n",
    "plt.clf()\n",
    "plt.imshow((heatmap), origin='lower')\n",
    "plt.show()"
   ]
  }
 ],
 "metadata": {
  "kernelspec": {
   "display_name": "Python 3",
   "language": "python",
   "name": "python3"
  },
  "language_info": {
   "codemirror_mode": {
    "name": "ipython",
    "version": 3
   },
   "file_extension": ".py",
   "mimetype": "text/x-python",
   "name": "python",
   "nbconvert_exporter": "python",
   "pygments_lexer": "ipython3",
   "version": "3.6.0"
  }
 },
 "nbformat": 4,
 "nbformat_minor": 0
}
