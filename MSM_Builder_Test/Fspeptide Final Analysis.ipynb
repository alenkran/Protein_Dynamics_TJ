{
 "cells": [
  {
   "cell_type": "code",
   "execution_count": 2,
   "metadata": {
    "collapsed": true
   },
   "outputs": [],
   "source": [
    "import numpy as np"
   ]
  },
  {
   "cell_type": "code",
   "execution_count": 21,
   "metadata": {
    "collapsed": false
   },
   "outputs": [
    {
     "data": {
      "text/plain": [
       "array([  100,   200,   300,   400,   500,   600,   700,   800,   900,\n",
       "        1000,  1500,  2000,  2500,  3000,  3500,  4000,  4500,  5000,\n",
       "        5500,  6000,  6500,  7000,  7500,  8000,  8500,  9000,  9500,\n",
       "       10000, 10500, 11000, 11500, 12000, 12500, 13000, 13500, 14000,\n",
       "       14500, 15000, 15500, 16000, 16500, 17000, 17500, 18000, 18500,\n",
       "       19000, 19500, 20000, 20500, 21000, 21500, 22000, 22500, 23000,\n",
       "       23500, 24000, 24500, 25000, 25500, 26000, 26500, 27000, 27500,\n",
       "       28000, 28500, 29000, 29500])"
      ]
     },
     "execution_count": 21,
     "metadata": {},
     "output_type": "execute_result"
    }
   ],
   "source": [
    "max_frame = 30000\n",
    "\n",
    "sampling_range = np.arange(1000, max_frame, 500)\n",
    "sampling_range = np.concatenate((np.arange(100, 1000, 100), sampling_range))\n",
    "sampling_range"
   ]
  },
  {
   "cell_type": "code",
   "execution_count": 20,
   "metadata": {
    "collapsed": false
   },
   "outputs": [
    {
     "data": {
      "text/plain": [
       "array([  200,   400,   600,   800,  1000,  1500,  2000,  2500,  3000,\n",
       "        3500,  4000,  4500,  5000,  6000,  7000,  8000,  9000, 10000,\n",
       "       11000, 12000, 13000, 14000, 15000, 16000, 17000, 18000, 19000,\n",
       "       20000, 22000, 24000, 26000, 28000])"
      ]
     },
     "execution_count": 20,
     "metadata": {},
     "output_type": "execute_result"
    }
   ],
   "source": [
    "sampling_range = np.arange(20000, max_frame, 2000)\n",
    "sampling_range = np.concatenate((np.arange(5000, 20000, 1000), sampling_range))\n",
    "sampling_range = np.concatenate((np.arange(1000, 5000, 500), sampling_range))\n",
    "sampling_range = np.concatenate((np.arange(200, 1000, 200), sampling_range))\n",
    "sampling_range"
   ]
  }
 ],
 "metadata": {
  "kernelspec": {
   "display_name": "Python 2",
   "language": "python",
   "name": "python2"
  },
  "language_info": {
   "codemirror_mode": {
    "name": "ipython",
    "version": 2
   },
   "file_extension": ".py",
   "mimetype": "text/x-python",
   "name": "python",
   "nbconvert_exporter": "python",
   "pygments_lexer": "ipython2",
   "version": "2.7.13"
  }
 },
 "nbformat": 4,
 "nbformat_minor": 2
}
