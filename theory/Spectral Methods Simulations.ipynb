{
 "cells": [
  {
   "cell_type": "markdown",
   "metadata": {},
   "source": [
    "# Spectral Methods Simulations\n",
    "\n",
    "This notebook is dedicated to understanding decomposition via spectral (eigen) methods. This was created right after Min Cheol's epiphany that PCA is essentially same as spectral embedding with linear kernels (i.e., dot product) as affinity matrix. \n",
    "\n",
    "I will attempt to connect PCA/tICA using very intuitive spectral decompositions, and essentially make analogies to spectral embedding with various kernels."
   ]
  },
  {
   "cell_type": "code",
   "execution_count": 188,
   "metadata": {
    "collapsed": true
   },
   "outputs": [],
   "source": [
    "import numpy as np\n",
    "import numpy.linalg as la\n",
    "from sklearn.preprocessing import normalize\n",
    "from sklearn.datasets import make_spd_matrix"
   ]
  },
  {
   "cell_type": "markdown",
   "metadata": {},
   "source": [
    "## PCA computation via eigendecomposition of the covariance matrix vs the Gram matrix\n",
    "\n",
    "Let $X$ be \n",
    "Stereotypical PCA involves computing the eigendecomposition of the empirical covariance matrix, or $\\frac{1}{N}X^{T}X$. \n",
    "\n",
    "Let us say that $u_{i}$ is an eigenvector of the covariance matrix, such that $\\frac{1}{N}X^{T}Xu_{i} = \\lambda_{i}u_{i}$. Multiplying by $X$ on the right on both sides yields:\n",
    "\n",
    "$$\\frac{1}{N}XX^{T}Xu_{i} = X\\lambda_{i}u_{i}$$\n",
    "$$\\frac{1}{N}(XX^{T})(Xu_{i}) = \\lambda_{i}(Xu_{i})$$\n",
    "\n",
    "We can see that $Xu_{i}$ is an eigenvector of $XX^T$. However, this will not be normalized (have L2 norm of 1). Once $Xu_i$ is normalized to have L2 norm of 1, it will be equivalent to the eigenvectors of $XX^T$.\n",
    "\n",
    "We can confirm that the eigenvectors displayed at the bottom-most cell (computed from the Gram matrix) are equal to the principal components computed from the eigenvectors of the covariance matrix."
   ]
  },
  {
   "cell_type": "code",
   "execution_count": 207,
   "metadata": {},
   "outputs": [
    {
     "name": "stdout",
     "output_type": "stream",
     "text": [
      "[  0.10309278   9.15561158  13.38297902]\n",
      "There are 3 nonzero eigenvalues\n"
     ]
    }
   ],
   "source": [
    "# Generate some random data with each column centered at 0\n",
    "X = np.concatenate([make_spd_matrix(3), make_spd_matrix(3)])\n",
    "mean = X.mean(axis=0)\n",
    "X = X - mean\n",
    "sigma = X.T.dot(X)\n",
    "pca_ev, pca_dirs = la.eigh(sigma)\n",
    "print(pca_ev)\n",
    "print('There are 3 nonzero eigenvalues')"
   ]
  },
  {
   "cell_type": "code",
   "execution_count": 209,
   "metadata": {},
   "outputs": [
    {
     "name": "stdout",
     "output_type": "stream",
     "text": [
      "Eigenvectors:\n",
      "[[ 0.7421334  -0.65364654  0.1482708 ]\n",
      " [ 0.12805063 -0.07887106 -0.98862652]\n",
      " [ 0.65790657  0.75267892  0.025167  ]]\n"
     ]
    }
   ],
   "source": [
    "print('Eigenvectors:')\n",
    "print(pca_dirs)"
   ]
  },
  {
   "cell_type": "code",
   "execution_count": 210,
   "metadata": {},
   "outputs": [
    {
     "data": {
      "text/plain": [
       "array([[-0.379745  , -0.43295877,  0.50538303],\n",
       "       [ 0.06517576,  0.42376967, -0.36933134],\n",
       "       [-0.0967069 ,  0.44113556, -0.1108904 ],\n",
       "       [ 0.85070409, -0.30838822,  0.08085442],\n",
       "       [-0.32447016, -0.47143067, -0.59325252],\n",
       "       [-0.11495779,  0.34787243,  0.4872368 ]])"
      ]
     },
     "execution_count": 210,
     "metadata": {},
     "output_type": "execute_result"
    }
   ],
   "source": [
    "normalize(X.dot(pca_dirs), axis=0, norm='l2')"
   ]
  },
  {
   "cell_type": "code",
   "execution_count": 214,
   "metadata": {},
   "outputs": [
    {
     "data": {
      "text/plain": [
       "array([[ 0.379745  ,  0.43295877, -0.50538303],\n",
       "       [-0.06517576, -0.42376967,  0.36933134],\n",
       "       [ 0.0967069 , -0.44113556,  0.1108904 ],\n",
       "       [-0.85070409,  0.30838822, -0.08085442],\n",
       "       [ 0.32447016,  0.47143067,  0.59325252],\n",
       "       [ 0.11495779, -0.34787243, -0.4872368 ]])"
      ]
     },
     "execution_count": 214,
     "metadata": {},
     "output_type": "execute_result"
    }
   ],
   "source": [
    "pca_ev, pca_comps = la.eigh(X.dot(X.T))\n",
    "pca_comps[:, -3:]"
   ]
  },
  {
   "cell_type": "markdown",
   "metadata": {},
   "source": [
    "## tICA computation via the time lagged correlation matrix and the covariance matrix"
   ]
  },
  {
   "cell_type": "code",
   "execution_count": 61,
   "metadata": {},
   "outputs": [],
   "source": [
    "dX = np.zeros((5,3))\n",
    "dX[1: :] = X[:-1, :]"
   ]
  },
  {
   "cell_type": "code",
   "execution_count": 62,
   "metadata": {},
   "outputs": [
    {
     "data": {
      "text/plain": [
       "array([[ 0.        ,  0.        ,  0.        ],\n",
       "       [ 0.15301319, -0.26339432,  0.11038113],\n",
       "       [-0.34623484,  0.18708211,  0.15915272],\n",
       "       [-0.07768646,  0.31951736, -0.2418309 ],\n",
       "       [-0.21377436,  0.20959988,  0.00417447]])"
      ]
     },
     "execution_count": 62,
     "metadata": {},
     "output_type": "execute_result"
    }
   ],
   "source": [
    "dX"
   ]
  },
  {
   "cell_type": "code",
   "execution_count": 64,
   "metadata": {},
   "outputs": [
    {
     "data": {
      "text/plain": [
       "array([[ 0.15301319, -0.34623484, -0.07768646, -0.21377436, -0.13261876],\n",
       "       [-0.26339432,  0.18708211,  0.31951736,  0.20959988, -0.26065998],\n",
       "       [ 0.11038113,  0.15915272, -0.2418309 ,  0.00417447,  0.39327875]])"
      ]
     },
     "execution_count": 64,
     "metadata": {},
     "output_type": "execute_result"
    }
   ],
   "source": [
    "X.T"
   ]
  },
  {
   "cell_type": "code",
   "execution_count": 215,
   "metadata": {},
   "outputs": [
    {
     "data": {
      "text/plain": [
       "array([[ 5.39070004,  0.91647514,  4.68261123],\n",
       "       [ 0.91647514,  0.23276174,  0.80883686],\n",
       "       [ 4.68261123,  0.80883686,  4.26048332]])"
      ]
     },
     "execution_count": 215,
     "metadata": {},
     "output_type": "execute_result"
    }
   ],
   "source": [
    "la.inv(sigma)"
   ]
  },
  {
   "cell_type": "code",
   "execution_count": 216,
   "metadata": {},
   "outputs": [
    {
     "data": {
      "text/plain": [
       "3"
      ]
     },
     "execution_count": 216,
     "metadata": {},
     "output_type": "execute_result"
    }
   ],
   "source": [
    "la.matrix_rank(sigma)"
   ]
  }
 ],
 "metadata": {
  "kernelspec": {
   "display_name": "Python 3",
   "language": "python",
   "name": "python3"
  },
  "language_info": {
   "codemirror_mode": {
    "name": "ipython",
    "version": 3
   },
   "file_extension": ".py",
   "mimetype": "text/x-python",
   "name": "python",
   "nbconvert_exporter": "python",
   "pygments_lexer": "ipython3",
   "version": "3.6.1"
  }
 },
 "nbformat": 4,
 "nbformat_minor": 2
}
